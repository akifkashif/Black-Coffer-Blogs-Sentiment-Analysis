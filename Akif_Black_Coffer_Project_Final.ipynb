{
  "nbformat": 4,
  "nbformat_minor": 0,
  "metadata": {
    "colab": {
      "provenance": [],
      "include_colab_link": true
    },
    "kernelspec": {
      "name": "python3",
      "display_name": "Python 3"
    },
    "language_info": {
      "name": "python"
    }
  },
  "cells": [
    {
      "cell_type": "markdown",
      "metadata": {
        "id": "view-in-github",
        "colab_type": "text"
      },
      "source": [
        "<a href=\"https://colab.research.google.com/github/akifkashif/Black-Coffer-Blogs-Sentiment-Analysis/blob/main/Akif_Black_Coffer_Project_Final.ipynb\" target=\"_parent\"><img src=\"https://colab.research.google.com/assets/colab-badge.svg\" alt=\"Open In Colab\"/></a>"
      ]
    },
    {
      "cell_type": "code",
      "execution_count": null,
      "metadata": {
        "id": "Qc6rCk68pjiI"
      },
      "outputs": [],
      "source": [
        "#importing library\n",
        "import pandas as pd\n",
        "import requests\n",
        "from bs4 import BeautifulSoup\n",
        "import numpy as np\n",
        "from google.colab import files"
      ]
    },
    {
      "cell_type": "code",
      "source": [
        "#importing google drive\n",
        "from google.colab import drive\n",
        "drive.mount('/content/drive')"
      ],
      "metadata": {
        "id": "EZOpO9Wr2N-q",
        "colab": {
          "base_uri": "https://localhost:8080/"
        },
        "outputId": "59424a8c-e0fa-4c91-91d1-36c897f1f785"
      },
      "execution_count": null,
      "outputs": [
        {
          "output_type": "stream",
          "name": "stdout",
          "text": [
            "Mounted at /content/drive\n"
          ]
        }
      ]
    },
    {
      "cell_type": "code",
      "source": [
        "#importing input file\n",
        "df_project=pd.read_csv('/content/drive/MyDrive/Input.csv')[['URL_ID','URL']]"
      ],
      "metadata": {
        "id": "j3wAqjmppkVC"
      },
      "execution_count": null,
      "outputs": []
    },
    {
      "cell_type": "code",
      "source": [
        "#extracting the first 5 rows of the dataset\n",
        "df_project.head()"
      ],
      "metadata": {
        "colab": {
          "base_uri": "https://localhost:8080/",
          "height": 206
        },
        "id": "E00Aort8iPZM",
        "outputId": "875ee1f2-fc81-4735-9d0e-47b87218bafe"
      },
      "execution_count": null,
      "outputs": [
        {
          "output_type": "execute_result",
          "data": {
            "text/plain": [
              "   URL_ID                                                URL\n",
              "0     1.0  https://insights.blackcoffer.com/is-telehealth...\n",
              "1     2.0  https://insights.blackcoffer.com/how-telehealt...\n",
              "2     3.0  https://insights.blackcoffer.com/is-telemedici...\n",
              "3     4.0  https://insights.blackcoffer.com/is-telehealth...\n",
              "4     5.0  https://insights.blackcoffer.com/how-people-di..."
            ],
            "text/html": [
              "\n",
              "  <div id=\"df-21350e2a-553f-48b9-8f99-7db66eea70e1\">\n",
              "    <div class=\"colab-df-container\">\n",
              "      <div>\n",
              "<style scoped>\n",
              "    .dataframe tbody tr th:only-of-type {\n",
              "        vertical-align: middle;\n",
              "    }\n",
              "\n",
              "    .dataframe tbody tr th {\n",
              "        vertical-align: top;\n",
              "    }\n",
              "\n",
              "    .dataframe thead th {\n",
              "        text-align: right;\n",
              "    }\n",
              "</style>\n",
              "<table border=\"1\" class=\"dataframe\">\n",
              "  <thead>\n",
              "    <tr style=\"text-align: right;\">\n",
              "      <th></th>\n",
              "      <th>URL_ID</th>\n",
              "      <th>URL</th>\n",
              "    </tr>\n",
              "  </thead>\n",
              "  <tbody>\n",
              "    <tr>\n",
              "      <th>0</th>\n",
              "      <td>1.0</td>\n",
              "      <td>https://insights.blackcoffer.com/is-telehealth...</td>\n",
              "    </tr>\n",
              "    <tr>\n",
              "      <th>1</th>\n",
              "      <td>2.0</td>\n",
              "      <td>https://insights.blackcoffer.com/how-telehealt...</td>\n",
              "    </tr>\n",
              "    <tr>\n",
              "      <th>2</th>\n",
              "      <td>3.0</td>\n",
              "      <td>https://insights.blackcoffer.com/is-telemedici...</td>\n",
              "    </tr>\n",
              "    <tr>\n",
              "      <th>3</th>\n",
              "      <td>4.0</td>\n",
              "      <td>https://insights.blackcoffer.com/is-telehealth...</td>\n",
              "    </tr>\n",
              "    <tr>\n",
              "      <th>4</th>\n",
              "      <td>5.0</td>\n",
              "      <td>https://insights.blackcoffer.com/how-people-di...</td>\n",
              "    </tr>\n",
              "  </tbody>\n",
              "</table>\n",
              "</div>\n",
              "      <button class=\"colab-df-convert\" onclick=\"convertToInteractive('df-21350e2a-553f-48b9-8f99-7db66eea70e1')\"\n",
              "              title=\"Convert this dataframe to an interactive table.\"\n",
              "              style=\"display:none;\">\n",
              "        \n",
              "  <svg xmlns=\"http://www.w3.org/2000/svg\" height=\"24px\"viewBox=\"0 0 24 24\"\n",
              "       width=\"24px\">\n",
              "    <path d=\"M0 0h24v24H0V0z\" fill=\"none\"/>\n",
              "    <path d=\"M18.56 5.44l.94 2.06.94-2.06 2.06-.94-2.06-.94-.94-2.06-.94 2.06-2.06.94zm-11 1L8.5 8.5l.94-2.06 2.06-.94-2.06-.94L8.5 2.5l-.94 2.06-2.06.94zm10 10l.94 2.06.94-2.06 2.06-.94-2.06-.94-.94-2.06-.94 2.06-2.06.94z\"/><path d=\"M17.41 7.96l-1.37-1.37c-.4-.4-.92-.59-1.43-.59-.52 0-1.04.2-1.43.59L10.3 9.45l-7.72 7.72c-.78.78-.78 2.05 0 2.83L4 21.41c.39.39.9.59 1.41.59.51 0 1.02-.2 1.41-.59l7.78-7.78 2.81-2.81c.8-.78.8-2.07 0-2.86zM5.41 20L4 18.59l7.72-7.72 1.47 1.35L5.41 20z\"/>\n",
              "  </svg>\n",
              "      </button>\n",
              "      \n",
              "  <style>\n",
              "    .colab-df-container {\n",
              "      display:flex;\n",
              "      flex-wrap:wrap;\n",
              "      gap: 12px;\n",
              "    }\n",
              "\n",
              "    .colab-df-convert {\n",
              "      background-color: #E8F0FE;\n",
              "      border: none;\n",
              "      border-radius: 50%;\n",
              "      cursor: pointer;\n",
              "      display: none;\n",
              "      fill: #1967D2;\n",
              "      height: 32px;\n",
              "      padding: 0 0 0 0;\n",
              "      width: 32px;\n",
              "    }\n",
              "\n",
              "    .colab-df-convert:hover {\n",
              "      background-color: #E2EBFA;\n",
              "      box-shadow: 0px 1px 2px rgba(60, 64, 67, 0.3), 0px 1px 3px 1px rgba(60, 64, 67, 0.15);\n",
              "      fill: #174EA6;\n",
              "    }\n",
              "\n",
              "    [theme=dark] .colab-df-convert {\n",
              "      background-color: #3B4455;\n",
              "      fill: #D2E3FC;\n",
              "    }\n",
              "\n",
              "    [theme=dark] .colab-df-convert:hover {\n",
              "      background-color: #434B5C;\n",
              "      box-shadow: 0px 1px 3px 1px rgba(0, 0, 0, 0.15);\n",
              "      filter: drop-shadow(0px 1px 2px rgba(0, 0, 0, 0.3));\n",
              "      fill: #FFFFFF;\n",
              "    }\n",
              "  </style>\n",
              "\n",
              "      <script>\n",
              "        const buttonEl =\n",
              "          document.querySelector('#df-21350e2a-553f-48b9-8f99-7db66eea70e1 button.colab-df-convert');\n",
              "        buttonEl.style.display =\n",
              "          google.colab.kernel.accessAllowed ? 'block' : 'none';\n",
              "\n",
              "        async function convertToInteractive(key) {\n",
              "          const element = document.querySelector('#df-21350e2a-553f-48b9-8f99-7db66eea70e1');\n",
              "          const dataTable =\n",
              "            await google.colab.kernel.invokeFunction('convertToInteractive',\n",
              "                                                     [key], {});\n",
              "          if (!dataTable) return;\n",
              "\n",
              "          const docLinkHtml = 'Like what you see? Visit the ' +\n",
              "            '<a target=\"_blank\" href=https://colab.research.google.com/notebooks/data_table.ipynb>data table notebook</a>'\n",
              "            + ' to learn more about interactive tables.';\n",
              "          element.innerHTML = '';\n",
              "          dataTable['output_type'] = 'display_data';\n",
              "          await google.colab.output.renderOutput(dataTable, element);\n",
              "          const docLink = document.createElement('div');\n",
              "          docLink.innerHTML = docLinkHtml;\n",
              "          element.appendChild(docLink);\n",
              "        }\n",
              "      </script>\n",
              "    </div>\n",
              "  </div>\n",
              "  "
            ]
          },
          "metadata": {},
          "execution_count": 4
        }
      ]
    },
    {
      "cell_type": "code",
      "source": [
        "#extracting the last 5 rows of the dataset\n",
        "df_project.tail()"
      ],
      "metadata": {
        "colab": {
          "base_uri": "https://localhost:8080/",
          "height": 206
        },
        "id": "63lNrvoliVok",
        "outputId": "a9aad87a-a1ce-436c-8368-88190b21c570"
      },
      "execution_count": null,
      "outputs": [
        {
          "output_type": "execute_result",
          "data": {
            "text/plain": [
              "      URL_ID  URL\n",
              "1014     NaN  NaN\n",
              "1015     NaN  NaN\n",
              "1016     NaN  NaN\n",
              "1017     NaN  NaN\n",
              "1018     NaN  NaN"
            ],
            "text/html": [
              "\n",
              "  <div id=\"df-72945845-fa24-49c5-be57-12c580b6f3c0\">\n",
              "    <div class=\"colab-df-container\">\n",
              "      <div>\n",
              "<style scoped>\n",
              "    .dataframe tbody tr th:only-of-type {\n",
              "        vertical-align: middle;\n",
              "    }\n",
              "\n",
              "    .dataframe tbody tr th {\n",
              "        vertical-align: top;\n",
              "    }\n",
              "\n",
              "    .dataframe thead th {\n",
              "        text-align: right;\n",
              "    }\n",
              "</style>\n",
              "<table border=\"1\" class=\"dataframe\">\n",
              "  <thead>\n",
              "    <tr style=\"text-align: right;\">\n",
              "      <th></th>\n",
              "      <th>URL_ID</th>\n",
              "      <th>URL</th>\n",
              "    </tr>\n",
              "  </thead>\n",
              "  <tbody>\n",
              "    <tr>\n",
              "      <th>1014</th>\n",
              "      <td>NaN</td>\n",
              "      <td>NaN</td>\n",
              "    </tr>\n",
              "    <tr>\n",
              "      <th>1015</th>\n",
              "      <td>NaN</td>\n",
              "      <td>NaN</td>\n",
              "    </tr>\n",
              "    <tr>\n",
              "      <th>1016</th>\n",
              "      <td>NaN</td>\n",
              "      <td>NaN</td>\n",
              "    </tr>\n",
              "    <tr>\n",
              "      <th>1017</th>\n",
              "      <td>NaN</td>\n",
              "      <td>NaN</td>\n",
              "    </tr>\n",
              "    <tr>\n",
              "      <th>1018</th>\n",
              "      <td>NaN</td>\n",
              "      <td>NaN</td>\n",
              "    </tr>\n",
              "  </tbody>\n",
              "</table>\n",
              "</div>\n",
              "      <button class=\"colab-df-convert\" onclick=\"convertToInteractive('df-72945845-fa24-49c5-be57-12c580b6f3c0')\"\n",
              "              title=\"Convert this dataframe to an interactive table.\"\n",
              "              style=\"display:none;\">\n",
              "        \n",
              "  <svg xmlns=\"http://www.w3.org/2000/svg\" height=\"24px\"viewBox=\"0 0 24 24\"\n",
              "       width=\"24px\">\n",
              "    <path d=\"M0 0h24v24H0V0z\" fill=\"none\"/>\n",
              "    <path d=\"M18.56 5.44l.94 2.06.94-2.06 2.06-.94-2.06-.94-.94-2.06-.94 2.06-2.06.94zm-11 1L8.5 8.5l.94-2.06 2.06-.94-2.06-.94L8.5 2.5l-.94 2.06-2.06.94zm10 10l.94 2.06.94-2.06 2.06-.94-2.06-.94-.94-2.06-.94 2.06-2.06.94z\"/><path d=\"M17.41 7.96l-1.37-1.37c-.4-.4-.92-.59-1.43-.59-.52 0-1.04.2-1.43.59L10.3 9.45l-7.72 7.72c-.78.78-.78 2.05 0 2.83L4 21.41c.39.39.9.59 1.41.59.51 0 1.02-.2 1.41-.59l7.78-7.78 2.81-2.81c.8-.78.8-2.07 0-2.86zM5.41 20L4 18.59l7.72-7.72 1.47 1.35L5.41 20z\"/>\n",
              "  </svg>\n",
              "      </button>\n",
              "      \n",
              "  <style>\n",
              "    .colab-df-container {\n",
              "      display:flex;\n",
              "      flex-wrap:wrap;\n",
              "      gap: 12px;\n",
              "    }\n",
              "\n",
              "    .colab-df-convert {\n",
              "      background-color: #E8F0FE;\n",
              "      border: none;\n",
              "      border-radius: 50%;\n",
              "      cursor: pointer;\n",
              "      display: none;\n",
              "      fill: #1967D2;\n",
              "      height: 32px;\n",
              "      padding: 0 0 0 0;\n",
              "      width: 32px;\n",
              "    }\n",
              "\n",
              "    .colab-df-convert:hover {\n",
              "      background-color: #E2EBFA;\n",
              "      box-shadow: 0px 1px 2px rgba(60, 64, 67, 0.3), 0px 1px 3px 1px rgba(60, 64, 67, 0.15);\n",
              "      fill: #174EA6;\n",
              "    }\n",
              "\n",
              "    [theme=dark] .colab-df-convert {\n",
              "      background-color: #3B4455;\n",
              "      fill: #D2E3FC;\n",
              "    }\n",
              "\n",
              "    [theme=dark] .colab-df-convert:hover {\n",
              "      background-color: #434B5C;\n",
              "      box-shadow: 0px 1px 3px 1px rgba(0, 0, 0, 0.15);\n",
              "      filter: drop-shadow(0px 1px 2px rgba(0, 0, 0, 0.3));\n",
              "      fill: #FFFFFF;\n",
              "    }\n",
              "  </style>\n",
              "\n",
              "      <script>\n",
              "        const buttonEl =\n",
              "          document.querySelector('#df-72945845-fa24-49c5-be57-12c580b6f3c0 button.colab-df-convert');\n",
              "        buttonEl.style.display =\n",
              "          google.colab.kernel.accessAllowed ? 'block' : 'none';\n",
              "\n",
              "        async function convertToInteractive(key) {\n",
              "          const element = document.querySelector('#df-72945845-fa24-49c5-be57-12c580b6f3c0');\n",
              "          const dataTable =\n",
              "            await google.colab.kernel.invokeFunction('convertToInteractive',\n",
              "                                                     [key], {});\n",
              "          if (!dataTable) return;\n",
              "\n",
              "          const docLinkHtml = 'Like what you see? Visit the ' +\n",
              "            '<a target=\"_blank\" href=https://colab.research.google.com/notebooks/data_table.ipynb>data table notebook</a>'\n",
              "            + ' to learn more about interactive tables.';\n",
              "          element.innerHTML = '';\n",
              "          dataTable['output_type'] = 'display_data';\n",
              "          await google.colab.output.renderOutput(dataTable, element);\n",
              "          const docLink = document.createElement('div');\n",
              "          docLink.innerHTML = docLinkHtml;\n",
              "          element.appendChild(docLink);\n",
              "        }\n",
              "      </script>\n",
              "    </div>\n",
              "  </div>\n",
              "  "
            ]
          },
          "metadata": {},
          "execution_count": 5
        }
      ]
    },
    {
      "cell_type": "markdown",
      "source": [
        "#Here there are null values starting from 151 row of the dataset so capping the rows till 150 should be done "
      ],
      "metadata": {
        "id": "oGZgL2YY_yUM"
      }
    },
    {
      "cell_type": "code",
      "source": [
        "#getting the number of rows and columns\n",
        "df_project.shape"
      ],
      "metadata": {
        "colab": {
          "base_uri": "https://localhost:8080/"
        },
        "id": "Xhc967ZqgvH7",
        "outputId": "56add441-1464-4eb0-979f-99d0e5e10877"
      },
      "execution_count": null,
      "outputs": [
        {
          "output_type": "execute_result",
          "data": {
            "text/plain": [
              "(1019, 2)"
            ]
          },
          "metadata": {},
          "execution_count": 6
        }
      ]
    },
    {
      "cell_type": "code",
      "source": [
        "#removing the row which had null values in them\n",
        "df_project=df_project.iloc[0:150]"
      ],
      "metadata": {
        "id": "HWsk5Hr-iZAP"
      },
      "execution_count": null,
      "outputs": []
    },
    {
      "cell_type": "code",
      "source": [
        "#viewing data in dataframe\n",
        "df_project['URL'][0]"
      ],
      "metadata": {
        "colab": {
          "base_uri": "https://localhost:8080/",
          "height": 36
        },
        "id": "_WzInOmN1qFt",
        "outputId": "c38fa68d-4876-4704-d82d-dc421c404406"
      },
      "execution_count": null,
      "outputs": [
        {
          "output_type": "execute_result",
          "data": {
            "text/plain": [
              "'https://insights.blackcoffer.com/is-telehealth-the-future-of-healthcare-3/'"
            ],
            "application/vnd.google.colaboratory.intrinsic+json": {
              "type": "string"
            }
          },
          "metadata": {},
          "execution_count": 8
        }
      ]
    },
    {
      "cell_type": "markdown",
      "source": [
        "# Data extraction"
      ],
      "metadata": {
        "id": "G0qbaPKada0c"
      }
    },
    {
      "cell_type": "code",
      "source": [
        "#performing data extraction on a single URL\n",
        "j=df_project['URL'][40]\n",
        "   \n",
        "headers={'User-Agent': 'Mozilla/5.0 (Windows NT 10.0; Win64; x64) AppleWebKit/537.36 (KHTML, like Gecko) Chrome/74.0.3729.169 Safari/537.36'}#giving user access\n",
        "page=requests.get(j,headers=headers)#loading text in url\n",
        "soup=BeautifulSoup(page.content,'html.parser')#parsing url text\n",
        "content=soup.findAll(attrs={'class':'td-post-content'})#extracting only text part\n",
        "content=content[0].text.replace('<p>',\" \").replace('\\n',\" \").replace('\\xa0',' ')#replace end line symbol with space \n",
        "title=soup.findAll(attrs={'class':'entry-title'})#extracting title of website\n",
        "print(title)"
      ],
      "metadata": {
        "colab": {
          "base_uri": "https://localhost:8080/"
        },
        "id": "n8uRvYt97Yl4",
        "outputId": "72a65de6-a5e2-48c6-f34e-89f5a2d16293"
      },
      "execution_count": null,
      "outputs": [
        {
          "output_type": "stream",
          "name": "stdout",
          "text": [
            "[<h3 class=\"entry-title td-module-title\"><a href=\"https://insights.blackcoffer.com/ranking-customer-behaviours-for-business-strategy/\" rel=\"bookmark\" title=\"Ranking customer behaviours for business strategy\">Ranking customer behaviours for business strategy</a></h3>, <h3 class=\"entry-title td-module-title\"><a href=\"https://insights.blackcoffer.com/algorithmic-trading-for-multiple-commodities-markets-like-forex-metals-energy-etc/\" rel=\"bookmark\" title=\"Algorithmic trading for multiple commodities markets, like Forex, Metals, Energy, etc.\">Algorithmic trading for multiple commodities markets, like Forex, Metals, Energy, etc.</a></h3>, <h3 class=\"entry-title td-module-title\"><a href=\"https://insights.blackcoffer.com/trading-bot-for-forex/\" rel=\"bookmark\" title=\"Trading Bot for FOREX\">Trading Bot for FOREX</a></h3>, <h3 class=\"entry-title td-module-title\"><a href=\"https://insights.blackcoffer.com/python-model-for-the-analysis-of-sector-specific-stock-etfs-for-investment-purposes%ef%bf%bc/\" rel=\"bookmark\" title=\"Python model for the analysis of sector-specific stock ETFs for investment purposes\">Python model for the analysis of sector-specific stock ETFs for investment…</a></h3>, <h3 class=\"entry-title td-module-title\"><a href=\"https://insights.blackcoffer.com/playstore-appstore-to-google-analytics-ga-or-firebase-to-google-data-studio-mobile-app-kpi-dashboard/\" rel=\"bookmark\" title=\"Playstore &amp; Appstore to Google Analytics (GA) or Firebase to Google Data Studio Mobile App KPI Dashboard\">Playstore &amp; Appstore to Google Analytics (GA) or Firebase to Google…</a></h3>, <h3 class=\"entry-title td-module-title\"><a href=\"https://insights.blackcoffer.com/google-local-service-ads-lsa-api-to-google-bigquery-to-google-data-studio/\" rel=\"bookmark\" title=\"Google Local Service Ads LSA API To Google BigQuery to Google Data Studio\">Google Local Service Ads LSA API To Google BigQuery to Google…</a></h3>, <h3 class=\"entry-title td-module-title\"><a href=\"https://insights.blackcoffer.com/ai-conversational-bot-using-rasa/\" rel=\"bookmark\" title=\"AI Conversational Bot using RASA\">AI Conversational Bot using RASA</a></h3>, <h3 class=\"entry-title td-module-title\"><a href=\"https://insights.blackcoffer.com/recommendation-system-architecture/\" rel=\"bookmark\" title=\"Recommendation System Architecture\">Recommendation System Architecture</a></h3>, <h3 class=\"entry-title td-module-title\"><a href=\"https://insights.blackcoffer.com/rise-of-telemedicine-and-its-impact-on-livelihood-by-2040-3/\" rel=\"bookmark\" title=\"Rise of telemedicine and its Impact on Livelihood by 2040\">Rise of telemedicine and its Impact on Livelihood by 2040</a></h3>, <h3 class=\"entry-title td-module-title\"><a href=\"https://insights.blackcoffer.com/rise-of-e-health-and-its-impact-on-humans-by-the-year-2030/\" rel=\"bookmark\" title=\"Rise of e-health and its impact on humans by the year 2030\">Rise of e-health and its impact on humans by the year…</a></h3>, <h3 class=\"entry-title td-module-title\"><a href=\"https://insights.blackcoffer.com/rise-of-e-health-and-its-imapct-on-humans-by-the-year-2030-2/\" rel=\"bookmark\" title=\"Rise of e-health and its impact on humans by the year 2030\">Rise of e-health and its impact on humans by the year…</a></h3>, <h3 class=\"entry-title td-module-title\"><a href=\"https://insights.blackcoffer.com/rise-of-chatbots-and-its-impact-on-customer-support-by-the-year-2040-2/\" rel=\"bookmark\" title=\"Rise of Chatbots and its impact on customer support by the year 2040\">Rise of Chatbots and its impact on customer support by the…</a></h3>, <h3 class=\"entry-title td-module-title\"><a href=\"https://insights.blackcoffer.com/ai-ml-and-predictive-modeling/\" rel=\"bookmark\" title=\"AI/ML and Predictive Modeling\">AI/ML and Predictive Modeling</a></h3>, <h3 class=\"entry-title td-module-title\"><a href=\"https://insights.blackcoffer.com/solution-for-contact-centre-problems/\" rel=\"bookmark\" title=\"Solution for Contact Centre Problems\">Solution for Contact Centre Problems</a></h3>, <h3 class=\"entry-title td-module-title\"><a href=\"https://insights.blackcoffer.com/how-to-setup-custom-domain-for-google-app-engine-application/\" rel=\"bookmark\" title=\"How to Setup Custom Domain for Google App Engine Application?\">How to Setup Custom Domain for Google App Engine Application?</a></h3>, <h3 class=\"entry-title td-module-title\"><a href=\"https://insights.blackcoffer.com/code-review-checklist/\" rel=\"bookmark\" title=\"Code Review Checklist\">Code Review Checklist</a></h3>, <h1 class=\"entry-title\">Will AI Replace Us or Work With Us?</h1>, <h3 class=\"entry-title td-module-title\"><a href=\"https://insights.blackcoffer.com/rise-of-telemedicine-and-its-impact-on-livelihood-by-2040-3/\" rel=\"bookmark\" title=\"Rise of telemedicine and its Impact on Livelihood by 2040\">Rise of telemedicine and its Impact on Livelihood by 2040</a></h3>, <h3 class=\"entry-title td-module-title\"><a href=\"https://insights.blackcoffer.com/rise-of-e-health-and-its-impact-on-humans-by-the-year-2030/\" rel=\"bookmark\" title=\"Rise of e-health and its impact on humans by the year 2030\">Rise of e-health and its impact on humans by the year 2030</a></h3>, <h3 class=\"entry-title td-module-title\"><a href=\"https://insights.blackcoffer.com/rise-of-e-health-and-its-imapct-on-humans-by-the-year-2030-2/\" rel=\"bookmark\" title=\"Rise of e-health and its impact on humans by the year 2030\">Rise of e-health and its impact on humans by the year 2030</a></h3>, <h3 class=\"entry-title td-module-title\"><a href=\"https://insights.blackcoffer.com/estimating-the-impact-of-covid-19-on-the-world-of-work/\" rel=\"bookmark\" title=\"Estimating the impact of COVID-19 on the world of work\">Estimating the impact of COVID-19 on the world of work</a></h3>, <h3 class=\"entry-title td-module-title\"><a href=\"https://insights.blackcoffer.com/dow-jones-industrial-average-time-series-data-analysis-analysis-and-results-of-data/\" rel=\"bookmark\" title=\"DOW-JONES-INDUSTRIAL-AVERAGE Time series Data Analysis: Analysis and Results of Data\">DOW-JONES-INDUSTRIAL-AVERAGE Time series Data Analysis: Analysis and Results of Data</a></h3>, <h3 class=\"entry-title td-module-title\"><a href=\"https://insights.blackcoffer.com/how-google-fit-measure-heart-and-respiratory-rates-using-a-phone/\" rel=\"bookmark\" title=\"How Google fit measure heart and respiratory rates using a phone camera?\">How Google fit measure heart and respiratory rates using a phone...</a></h3>, <h3 class=\"entry-title td-module-title\"><a href=\"https://insights.blackcoffer.com/big-data-platform-and-data-lake-tool/\" rel=\"bookmark\" title=\"Big Data Platform and Data Lake Tool\">Big Data Platform and Data Lake Tool</a></h3>, <h3 class=\"entry-title td-module-title\"><a href=\"https://insights.blackcoffer.com/google-local-service-ads-missed-calls-and-messages-automation-tool/\" rel=\"bookmark\" title=\"Google Local Service Ads Missed Calls and Messages Automation Tool\">Google Local Service Ads Missed Calls and Messages Automation Tool</a></h3>, <h3 class=\"entry-title td-module-title\"><a href=\"https://insights.blackcoffer.com/gaining-insights-internal-data-retail/\" rel=\"bookmark\" title=\"Are Initial Big Data Efforts Focused on Gaining Insights from Existing Sources of Internal Data in Retail Industry?\">Are Initial Big Data Efforts Focused on Gaining Insights from Existing...</a></h3>, <h3 class=\"entry-title td-module-title\"><a href=\"https://insights.blackcoffer.com/data-integration-elt-with-neo4j-graph/\" rel=\"bookmark\" title=\"Data Integration, ELT with Neo4j Graph Database\">Data Integration, ELT with Neo4j Graph Database</a></h3>, <h3 class=\"entry-title td-module-title\"><a href=\"https://insights.blackcoffer.com/turning-the-professional-networking-data-into-actionable-insights/\" rel=\"bookmark\" title=\"Turning the Professional Networking Data into Actionable Insights\">Turning the Professional Networking Data into Actionable Insights</a></h3>, <h3 class=\"entry-title td-module-title\"><a href=\"https://insights.blackcoffer.com/algorithmic-trading-for-multiple-commodities-markets-like-forex-metals-energy-etc/\" rel=\"bookmark\" title=\"Algorithmic trading for multiple commodities markets, like Forex, Metals, Energy, etc.\">Algorithmic trading for multiple commodities markets, like Forex, Metals, Energy, etc.</a></h3>, <h3 class=\"entry-title td-module-title\"><a href=\"https://insights.blackcoffer.com/trading-bot-for-forex/\" rel=\"bookmark\" title=\"Trading Bot for FOREX\">Trading Bot for FOREX</a></h3>, <h3 class=\"entry-title td-module-title\"><a href=\"https://insights.blackcoffer.com/python-model-for-the-analysis-of-sector-specific-stock-etfs-for-investment-purposes%ef%bf%bc/\" rel=\"bookmark\" title=\"Python model for the analysis of sector-specific stock ETFs for investment purposes\">Python model for the analysis of sector-specific stock ETFs for investment...</a></h3>, <h3 class=\"entry-title td-module-title\"><a href=\"https://insights.blackcoffer.com/ai-in-healthcare-to-improve-patient-outcomes/\" rel=\"bookmark\" title=\"AI in healthcare to Improve Patient Outcomes\">AI in healthcare to Improve Patient Outcomes</a></h3>, <h3 class=\"entry-title td-module-title\"><a href=\"https://insights.blackcoffer.com/how-is-login-logout-time-tracking-for-employees-in-office-done-by-ai/\" rel=\"bookmark\" title=\"How is Login Logout Time Tracking for Employees in Office done by AI?\">How is Login Logout Time Tracking for Employees in Office done...</a></h3>, <h3 class=\"entry-title td-module-title\"><a href=\"https://insights.blackcoffer.com/should-celebrities-be-allowed-to-join-politics/\" rel=\"bookmark\" title=\"Should celebrities be allowed to join politics?\">Should celebrities be allowed to join politics?</a></h3>, <h3 class=\"entry-title td-module-title\"><a href=\"https://insights.blackcoffer.com/rise-of-telemedicine-and-its-impact-on-livelihood-by-2040-3/\" rel=\"bookmark\" title=\"Rise of telemedicine and its Impact on Livelihood by 2040\">Rise of telemedicine and its Impact on Livelihood by 2040</a></h3>, <h3 class=\"entry-title td-module-title\"><a href=\"https://insights.blackcoffer.com/rise-of-e-health-and-its-impact-on-humans-by-the-year-2030/\" rel=\"bookmark\" title=\"Rise of e-health and its impact on humans by the year 2030\">Rise of e-health and its impact on humans by the year...</a></h3>]\n"
          ]
        }
      ]
    },
    {
      "cell_type": "code",
      "source": [
        "#extracting text from all the url\n",
        "main_df = pd.DataFrame()\n",
        "for i in range(len(df_project)):\n",
        "  #  print(i) \n",
        "   j=df_project['URL'][i]\n",
        "   \n",
        "   headers={'User-Agent': 'Mozilla/5.0 (Windows NT 10.0; Win64; x64) AppleWebKit/537.36 (KHTML, like Gecko) Chrome/74.0.3729.169 Safari/537.36'}#giving user access\n",
        "   page=requests.get(j,headers=headers)#loading text in url\n",
        "   soup=BeautifulSoup(page.content,'html.parser')#parsing url text\n",
        "   content=soup.findAll(attrs={'class':'td-post-content'})#extracting only text part\n",
        "   try:  \n",
        "    content=content[0].text.replace('<p>',\" \").replace('\\n',\" \").replace('\\xa0',' ')#replace end line symbol with space \n",
        "    title=soup.findAll(attrs={'class':'entry-title'})#extracting title of website\n",
        "\n",
        "    title=title[0].text.replace('\\n',\"  \").replace('/',\"\")\n",
        "    text=title+ '.' +content #merging title and content text\n",
        "    df1=pd.DataFrame(pd.Series(text),columns=['data'])#creating series data frame\n",
        "    df1['URL'] = j\n",
        "    main_df = pd.concat([df1,main_df],ignore_index=True)\n",
        "   \n",
        "   except:\n",
        "     print(i)\n",
        "     continue\n",
        "\n",
        "\n",
        "   "
      ],
      "metadata": {
        "id": "czsKjlCH3W32",
        "colab": {
          "base_uri": "https://localhost:8080/"
        },
        "outputId": "c2b44c4e-5a94-4c12-a4fa-7d4d6b0c96f6"
      },
      "execution_count": null,
      "outputs": [
        {
          "output_type": "stream",
          "name": "stdout",
          "text": [
            "23\n",
            "43\n",
            "56\n",
            "143\n"
          ]
        }
      ]
    },
    {
      "cell_type": "markdown",
      "source": [
        "#Here the row numbers 23, 43, 56, 143 have \"page not found error\" in their urls so in total after extraction we have 146 url for analysis"
      ],
      "metadata": {
        "id": "mzNScD7hAI55"
      }
    },
    {
      "cell_type": "code",
      "source": [
        "main_df.head()"
      ],
      "metadata": {
        "colab": {
          "base_uri": "https://localhost:8080/",
          "height": 206
        },
        "id": "VhVMUlTYZEMU",
        "outputId": "7ef32cf5-2d18-42e6-82d4-5377c25d182a"
      },
      "execution_count": null,
      "outputs": [
        {
          "output_type": "execute_result",
          "data": {
            "text/plain": [
              "                                                data  \\\n",
              "0  Ranking customer behaviours for business strat...   \n",
              "1  Ranking customer behaviours for business strat...   \n",
              "2  Ranking customer behaviours for business strat...   \n",
              "3  Ranking customer behaviours for business strat...   \n",
              "4  Ranking customer behaviours for business strat...   \n",
              "\n",
              "                                                 URL  \n",
              "0  https://insights.blackcoffer.com/challenges-an...  \n",
              "1  https://insights.blackcoffer.com/business-anal...  \n",
              "2  https://insights.blackcoffer.com/big-data-anal...  \n",
              "3  https://insights.blackcoffer.com/the-future-of...  \n",
              "4  https://insights.blackcoffer.com/blockchain-fo...  "
            ],
            "text/html": [
              "\n",
              "  <div id=\"df-f49f9d1d-2306-460e-9029-be2bb8a76b00\">\n",
              "    <div class=\"colab-df-container\">\n",
              "      <div>\n",
              "<style scoped>\n",
              "    .dataframe tbody tr th:only-of-type {\n",
              "        vertical-align: middle;\n",
              "    }\n",
              "\n",
              "    .dataframe tbody tr th {\n",
              "        vertical-align: top;\n",
              "    }\n",
              "\n",
              "    .dataframe thead th {\n",
              "        text-align: right;\n",
              "    }\n",
              "</style>\n",
              "<table border=\"1\" class=\"dataframe\">\n",
              "  <thead>\n",
              "    <tr style=\"text-align: right;\">\n",
              "      <th></th>\n",
              "      <th>data</th>\n",
              "      <th>URL</th>\n",
              "    </tr>\n",
              "  </thead>\n",
              "  <tbody>\n",
              "    <tr>\n",
              "      <th>0</th>\n",
              "      <td>Ranking customer behaviours for business strat...</td>\n",
              "      <td>https://insights.blackcoffer.com/challenges-an...</td>\n",
              "    </tr>\n",
              "    <tr>\n",
              "      <th>1</th>\n",
              "      <td>Ranking customer behaviours for business strat...</td>\n",
              "      <td>https://insights.blackcoffer.com/business-anal...</td>\n",
              "    </tr>\n",
              "    <tr>\n",
              "      <th>2</th>\n",
              "      <td>Ranking customer behaviours for business strat...</td>\n",
              "      <td>https://insights.blackcoffer.com/big-data-anal...</td>\n",
              "    </tr>\n",
              "    <tr>\n",
              "      <th>3</th>\n",
              "      <td>Ranking customer behaviours for business strat...</td>\n",
              "      <td>https://insights.blackcoffer.com/the-future-of...</td>\n",
              "    </tr>\n",
              "    <tr>\n",
              "      <th>4</th>\n",
              "      <td>Ranking customer behaviours for business strat...</td>\n",
              "      <td>https://insights.blackcoffer.com/blockchain-fo...</td>\n",
              "    </tr>\n",
              "  </tbody>\n",
              "</table>\n",
              "</div>\n",
              "      <button class=\"colab-df-convert\" onclick=\"convertToInteractive('df-f49f9d1d-2306-460e-9029-be2bb8a76b00')\"\n",
              "              title=\"Convert this dataframe to an interactive table.\"\n",
              "              style=\"display:none;\">\n",
              "        \n",
              "  <svg xmlns=\"http://www.w3.org/2000/svg\" height=\"24px\"viewBox=\"0 0 24 24\"\n",
              "       width=\"24px\">\n",
              "    <path d=\"M0 0h24v24H0V0z\" fill=\"none\"/>\n",
              "    <path d=\"M18.56 5.44l.94 2.06.94-2.06 2.06-.94-2.06-.94-.94-2.06-.94 2.06-2.06.94zm-11 1L8.5 8.5l.94-2.06 2.06-.94-2.06-.94L8.5 2.5l-.94 2.06-2.06.94zm10 10l.94 2.06.94-2.06 2.06-.94-2.06-.94-.94-2.06-.94 2.06-2.06.94z\"/><path d=\"M17.41 7.96l-1.37-1.37c-.4-.4-.92-.59-1.43-.59-.52 0-1.04.2-1.43.59L10.3 9.45l-7.72 7.72c-.78.78-.78 2.05 0 2.83L4 21.41c.39.39.9.59 1.41.59.51 0 1.02-.2 1.41-.59l7.78-7.78 2.81-2.81c.8-.78.8-2.07 0-2.86zM5.41 20L4 18.59l7.72-7.72 1.47 1.35L5.41 20z\"/>\n",
              "  </svg>\n",
              "      </button>\n",
              "      \n",
              "  <style>\n",
              "    .colab-df-container {\n",
              "      display:flex;\n",
              "      flex-wrap:wrap;\n",
              "      gap: 12px;\n",
              "    }\n",
              "\n",
              "    .colab-df-convert {\n",
              "      background-color: #E8F0FE;\n",
              "      border: none;\n",
              "      border-radius: 50%;\n",
              "      cursor: pointer;\n",
              "      display: none;\n",
              "      fill: #1967D2;\n",
              "      height: 32px;\n",
              "      padding: 0 0 0 0;\n",
              "      width: 32px;\n",
              "    }\n",
              "\n",
              "    .colab-df-convert:hover {\n",
              "      background-color: #E2EBFA;\n",
              "      box-shadow: 0px 1px 2px rgba(60, 64, 67, 0.3), 0px 1px 3px 1px rgba(60, 64, 67, 0.15);\n",
              "      fill: #174EA6;\n",
              "    }\n",
              "\n",
              "    [theme=dark] .colab-df-convert {\n",
              "      background-color: #3B4455;\n",
              "      fill: #D2E3FC;\n",
              "    }\n",
              "\n",
              "    [theme=dark] .colab-df-convert:hover {\n",
              "      background-color: #434B5C;\n",
              "      box-shadow: 0px 1px 3px 1px rgba(0, 0, 0, 0.15);\n",
              "      filter: drop-shadow(0px 1px 2px rgba(0, 0, 0, 0.3));\n",
              "      fill: #FFFFFF;\n",
              "    }\n",
              "  </style>\n",
              "\n",
              "      <script>\n",
              "        const buttonEl =\n",
              "          document.querySelector('#df-f49f9d1d-2306-460e-9029-be2bb8a76b00 button.colab-df-convert');\n",
              "        buttonEl.style.display =\n",
              "          google.colab.kernel.accessAllowed ? 'block' : 'none';\n",
              "\n",
              "        async function convertToInteractive(key) {\n",
              "          const element = document.querySelector('#df-f49f9d1d-2306-460e-9029-be2bb8a76b00');\n",
              "          const dataTable =\n",
              "            await google.colab.kernel.invokeFunction('convertToInteractive',\n",
              "                                                     [key], {});\n",
              "          if (!dataTable) return;\n",
              "\n",
              "          const docLinkHtml = 'Like what you see? Visit the ' +\n",
              "            '<a target=\"_blank\" href=https://colab.research.google.com/notebooks/data_table.ipynb>data table notebook</a>'\n",
              "            + ' to learn more about interactive tables.';\n",
              "          element.innerHTML = '';\n",
              "          dataTable['output_type'] = 'display_data';\n",
              "          await google.colab.output.renderOutput(dataTable, element);\n",
              "          const docLink = document.createElement('div');\n",
              "          docLink.innerHTML = docLinkHtml;\n",
              "          element.appendChild(docLink);\n",
              "        }\n",
              "      </script>\n",
              "    </div>\n",
              "  </div>\n",
              "  "
            ]
          },
          "metadata": {},
          "execution_count": 11
        }
      ]
    },
    {
      "cell_type": "code",
      "source": [
        "main_df = main_df.loc[:,['URL','data']]"
      ],
      "metadata": {
        "id": "HLki2RUrZJdW"
      },
      "execution_count": null,
      "outputs": []
    },
    {
      "cell_type": "code",
      "source": [
        "main_df.head()"
      ],
      "metadata": {
        "colab": {
          "base_uri": "https://localhost:8080/",
          "height": 206
        },
        "id": "BMjbx-UTZQlM",
        "outputId": "ead0bac3-afa6-4493-a852-27219e3c015d"
      },
      "execution_count": null,
      "outputs": [
        {
          "output_type": "execute_result",
          "data": {
            "text/plain": [
              "                                                 URL  \\\n",
              "0  https://insights.blackcoffer.com/challenges-an...   \n",
              "1  https://insights.blackcoffer.com/business-anal...   \n",
              "2  https://insights.blackcoffer.com/big-data-anal...   \n",
              "3  https://insights.blackcoffer.com/the-future-of...   \n",
              "4  https://insights.blackcoffer.com/blockchain-fo...   \n",
              "\n",
              "                                                data  \n",
              "0  Ranking customer behaviours for business strat...  \n",
              "1  Ranking customer behaviours for business strat...  \n",
              "2  Ranking customer behaviours for business strat...  \n",
              "3  Ranking customer behaviours for business strat...  \n",
              "4  Ranking customer behaviours for business strat...  "
            ],
            "text/html": [
              "\n",
              "  <div id=\"df-3f51feee-43ac-42ac-a3f8-2d9d597a76d7\">\n",
              "    <div class=\"colab-df-container\">\n",
              "      <div>\n",
              "<style scoped>\n",
              "    .dataframe tbody tr th:only-of-type {\n",
              "        vertical-align: middle;\n",
              "    }\n",
              "\n",
              "    .dataframe tbody tr th {\n",
              "        vertical-align: top;\n",
              "    }\n",
              "\n",
              "    .dataframe thead th {\n",
              "        text-align: right;\n",
              "    }\n",
              "</style>\n",
              "<table border=\"1\" class=\"dataframe\">\n",
              "  <thead>\n",
              "    <tr style=\"text-align: right;\">\n",
              "      <th></th>\n",
              "      <th>URL</th>\n",
              "      <th>data</th>\n",
              "    </tr>\n",
              "  </thead>\n",
              "  <tbody>\n",
              "    <tr>\n",
              "      <th>0</th>\n",
              "      <td>https://insights.blackcoffer.com/challenges-an...</td>\n",
              "      <td>Ranking customer behaviours for business strat...</td>\n",
              "    </tr>\n",
              "    <tr>\n",
              "      <th>1</th>\n",
              "      <td>https://insights.blackcoffer.com/business-anal...</td>\n",
              "      <td>Ranking customer behaviours for business strat...</td>\n",
              "    </tr>\n",
              "    <tr>\n",
              "      <th>2</th>\n",
              "      <td>https://insights.blackcoffer.com/big-data-anal...</td>\n",
              "      <td>Ranking customer behaviours for business strat...</td>\n",
              "    </tr>\n",
              "    <tr>\n",
              "      <th>3</th>\n",
              "      <td>https://insights.blackcoffer.com/the-future-of...</td>\n",
              "      <td>Ranking customer behaviours for business strat...</td>\n",
              "    </tr>\n",
              "    <tr>\n",
              "      <th>4</th>\n",
              "      <td>https://insights.blackcoffer.com/blockchain-fo...</td>\n",
              "      <td>Ranking customer behaviours for business strat...</td>\n",
              "    </tr>\n",
              "  </tbody>\n",
              "</table>\n",
              "</div>\n",
              "      <button class=\"colab-df-convert\" onclick=\"convertToInteractive('df-3f51feee-43ac-42ac-a3f8-2d9d597a76d7')\"\n",
              "              title=\"Convert this dataframe to an interactive table.\"\n",
              "              style=\"display:none;\">\n",
              "        \n",
              "  <svg xmlns=\"http://www.w3.org/2000/svg\" height=\"24px\"viewBox=\"0 0 24 24\"\n",
              "       width=\"24px\">\n",
              "    <path d=\"M0 0h24v24H0V0z\" fill=\"none\"/>\n",
              "    <path d=\"M18.56 5.44l.94 2.06.94-2.06 2.06-.94-2.06-.94-.94-2.06-.94 2.06-2.06.94zm-11 1L8.5 8.5l.94-2.06 2.06-.94-2.06-.94L8.5 2.5l-.94 2.06-2.06.94zm10 10l.94 2.06.94-2.06 2.06-.94-2.06-.94-.94-2.06-.94 2.06-2.06.94z\"/><path d=\"M17.41 7.96l-1.37-1.37c-.4-.4-.92-.59-1.43-.59-.52 0-1.04.2-1.43.59L10.3 9.45l-7.72 7.72c-.78.78-.78 2.05 0 2.83L4 21.41c.39.39.9.59 1.41.59.51 0 1.02-.2 1.41-.59l7.78-7.78 2.81-2.81c.8-.78.8-2.07 0-2.86zM5.41 20L4 18.59l7.72-7.72 1.47 1.35L5.41 20z\"/>\n",
              "  </svg>\n",
              "      </button>\n",
              "      \n",
              "  <style>\n",
              "    .colab-df-container {\n",
              "      display:flex;\n",
              "      flex-wrap:wrap;\n",
              "      gap: 12px;\n",
              "    }\n",
              "\n",
              "    .colab-df-convert {\n",
              "      background-color: #E8F0FE;\n",
              "      border: none;\n",
              "      border-radius: 50%;\n",
              "      cursor: pointer;\n",
              "      display: none;\n",
              "      fill: #1967D2;\n",
              "      height: 32px;\n",
              "      padding: 0 0 0 0;\n",
              "      width: 32px;\n",
              "    }\n",
              "\n",
              "    .colab-df-convert:hover {\n",
              "      background-color: #E2EBFA;\n",
              "      box-shadow: 0px 1px 2px rgba(60, 64, 67, 0.3), 0px 1px 3px 1px rgba(60, 64, 67, 0.15);\n",
              "      fill: #174EA6;\n",
              "    }\n",
              "\n",
              "    [theme=dark] .colab-df-convert {\n",
              "      background-color: #3B4455;\n",
              "      fill: #D2E3FC;\n",
              "    }\n",
              "\n",
              "    [theme=dark] .colab-df-convert:hover {\n",
              "      background-color: #434B5C;\n",
              "      box-shadow: 0px 1px 3px 1px rgba(0, 0, 0, 0.15);\n",
              "      filter: drop-shadow(0px 1px 2px rgba(0, 0, 0, 0.3));\n",
              "      fill: #FFFFFF;\n",
              "    }\n",
              "  </style>\n",
              "\n",
              "      <script>\n",
              "        const buttonEl =\n",
              "          document.querySelector('#df-3f51feee-43ac-42ac-a3f8-2d9d597a76d7 button.colab-df-convert');\n",
              "        buttonEl.style.display =\n",
              "          google.colab.kernel.accessAllowed ? 'block' : 'none';\n",
              "\n",
              "        async function convertToInteractive(key) {\n",
              "          const element = document.querySelector('#df-3f51feee-43ac-42ac-a3f8-2d9d597a76d7');\n",
              "          const dataTable =\n",
              "            await google.colab.kernel.invokeFunction('convertToInteractive',\n",
              "                                                     [key], {});\n",
              "          if (!dataTable) return;\n",
              "\n",
              "          const docLinkHtml = 'Like what you see? Visit the ' +\n",
              "            '<a target=\"_blank\" href=https://colab.research.google.com/notebooks/data_table.ipynb>data table notebook</a>'\n",
              "            + ' to learn more about interactive tables.';\n",
              "          element.innerHTML = '';\n",
              "          dataTable['output_type'] = 'display_data';\n",
              "          await google.colab.output.renderOutput(dataTable, element);\n",
              "          const docLink = document.createElement('div');\n",
              "          docLink.innerHTML = docLinkHtml;\n",
              "          element.appendChild(docLink);\n",
              "        }\n",
              "      </script>\n",
              "    </div>\n",
              "  </div>\n",
              "  "
            ]
          },
          "metadata": {},
          "execution_count": 13
        }
      ]
    },
    {
      "cell_type": "code",
      "source": [
        "#visualizing shape of the dataframe \n",
        "main_df.shape"
      ],
      "metadata": {
        "colab": {
          "base_uri": "https://localhost:8080/"
        },
        "id": "ydrm499awRyP",
        "outputId": "00205f36-c1c7-4101-cee7-386d80a8625e"
      },
      "execution_count": null,
      "outputs": [
        {
          "output_type": "execute_result",
          "data": {
            "text/plain": [
              "(146, 2)"
            ]
          },
          "metadata": {},
          "execution_count": 14
        }
      ]
    },
    {
      "cell_type": "markdown",
      "source": [
        "# Data analysis"
      ],
      "metadata": {
        "id": "ETT5Ce93dW3E"
      }
    },
    {
      "cell_type": "code",
      "source": [
        "#information of data frame\n",
        "main_df.info()"
      ],
      "metadata": {
        "colab": {
          "base_uri": "https://localhost:8080/"
        },
        "id": "99yHj18o_iDU",
        "outputId": "ccc9b85a-158b-4f6d-ae9c-a0695158fbcb"
      },
      "execution_count": null,
      "outputs": [
        {
          "output_type": "stream",
          "name": "stdout",
          "text": [
            "<class 'pandas.core.frame.DataFrame'>\n",
            "RangeIndex: 146 entries, 0 to 145\n",
            "Data columns (total 2 columns):\n",
            " #   Column  Non-Null Count  Dtype \n",
            "---  ------  --------------  ----- \n",
            " 0   URL     146 non-null    object\n",
            " 1   data    146 non-null    object\n",
            "dtypes: object(2)\n",
            "memory usage: 2.4+ KB\n"
          ]
        }
      ]
    },
    {
      "cell_type": "code",
      "source": [
        "main_df['data']"
      ],
      "metadata": {
        "colab": {
          "base_uri": "https://localhost:8080/"
        },
        "id": "blHMjX386OOQ",
        "outputId": "397f8083-7fa8-42fa-cc06-404157e70b97"
      },
      "execution_count": null,
      "outputs": [
        {
          "output_type": "execute_result",
          "data": {
            "text/plain": [
              "0      Ranking customer behaviours for business strat...\n",
              "1      Ranking customer behaviours for business strat...\n",
              "2      Ranking customer behaviours for business strat...\n",
              "3      Ranking customer behaviours for business strat...\n",
              "4      Ranking customer behaviours for business strat...\n",
              "                             ...                        \n",
              "141    Ranking customer behaviours for business strat...\n",
              "142    Ranking customer behaviours for business strat...\n",
              "143    Ranking customer behaviours for business strat...\n",
              "144    Ranking customer behaviours for business strat...\n",
              "145    Ranking customer behaviours for business strat...\n",
              "Name: data, Length: 146, dtype: object"
            ]
          },
          "metadata": {},
          "execution_count": 16
        }
      ]
    },
    {
      "cell_type": "code",
      "source": [
        "#creating new dataframe\n",
        "df = main_df.copy()"
      ],
      "metadata": {
        "id": "TH8hbDT56TQw"
      },
      "execution_count": null,
      "outputs": []
    },
    {
      "cell_type": "code",
      "source": [
        "#converting text to sentence\n",
        "import re\n",
        "#splitting text on '.'\n",
        "df['data']= main_df['data'].apply(lambda x: x.split('([\\.]\\s)'))\n"
      ],
      "metadata": {
        "id": "KCDJzEnU7Ogk"
      },
      "execution_count": null,
      "outputs": []
    },
    {
      "cell_type": "code",
      "source": [
        "df.head()"
      ],
      "metadata": {
        "colab": {
          "base_uri": "https://localhost:8080/",
          "height": 206
        },
        "id": "s9B3yn9Ai5sL",
        "outputId": "93792711-c1c9-4188-b99b-336576d4bd7c"
      },
      "execution_count": null,
      "outputs": [
        {
          "output_type": "execute_result",
          "data": {
            "text/plain": [
              "                                                 URL  \\\n",
              "0  https://insights.blackcoffer.com/challenges-an...   \n",
              "1  https://insights.blackcoffer.com/business-anal...   \n",
              "2  https://insights.blackcoffer.com/big-data-anal...   \n",
              "3  https://insights.blackcoffer.com/the-future-of...   \n",
              "4  https://insights.blackcoffer.com/blockchain-fo...   \n",
              "\n",
              "                                                data  \n",
              "0  [Ranking customer behaviours for business stra...  \n",
              "1  [Ranking customer behaviours for business stra...  \n",
              "2  [Ranking customer behaviours for business stra...  \n",
              "3  [Ranking customer behaviours for business stra...  \n",
              "4  [Ranking customer behaviours for business stra...  "
            ],
            "text/html": [
              "\n",
              "  <div id=\"df-1095a389-60c9-4b1f-88fc-f972a0c0a8cd\">\n",
              "    <div class=\"colab-df-container\">\n",
              "      <div>\n",
              "<style scoped>\n",
              "    .dataframe tbody tr th:only-of-type {\n",
              "        vertical-align: middle;\n",
              "    }\n",
              "\n",
              "    .dataframe tbody tr th {\n",
              "        vertical-align: top;\n",
              "    }\n",
              "\n",
              "    .dataframe thead th {\n",
              "        text-align: right;\n",
              "    }\n",
              "</style>\n",
              "<table border=\"1\" class=\"dataframe\">\n",
              "  <thead>\n",
              "    <tr style=\"text-align: right;\">\n",
              "      <th></th>\n",
              "      <th>URL</th>\n",
              "      <th>data</th>\n",
              "    </tr>\n",
              "  </thead>\n",
              "  <tbody>\n",
              "    <tr>\n",
              "      <th>0</th>\n",
              "      <td>https://insights.blackcoffer.com/challenges-an...</td>\n",
              "      <td>[Ranking customer behaviours for business stra...</td>\n",
              "    </tr>\n",
              "    <tr>\n",
              "      <th>1</th>\n",
              "      <td>https://insights.blackcoffer.com/business-anal...</td>\n",
              "      <td>[Ranking customer behaviours for business stra...</td>\n",
              "    </tr>\n",
              "    <tr>\n",
              "      <th>2</th>\n",
              "      <td>https://insights.blackcoffer.com/big-data-anal...</td>\n",
              "      <td>[Ranking customer behaviours for business stra...</td>\n",
              "    </tr>\n",
              "    <tr>\n",
              "      <th>3</th>\n",
              "      <td>https://insights.blackcoffer.com/the-future-of...</td>\n",
              "      <td>[Ranking customer behaviours for business stra...</td>\n",
              "    </tr>\n",
              "    <tr>\n",
              "      <th>4</th>\n",
              "      <td>https://insights.blackcoffer.com/blockchain-fo...</td>\n",
              "      <td>[Ranking customer behaviours for business stra...</td>\n",
              "    </tr>\n",
              "  </tbody>\n",
              "</table>\n",
              "</div>\n",
              "      <button class=\"colab-df-convert\" onclick=\"convertToInteractive('df-1095a389-60c9-4b1f-88fc-f972a0c0a8cd')\"\n",
              "              title=\"Convert this dataframe to an interactive table.\"\n",
              "              style=\"display:none;\">\n",
              "        \n",
              "  <svg xmlns=\"http://www.w3.org/2000/svg\" height=\"24px\"viewBox=\"0 0 24 24\"\n",
              "       width=\"24px\">\n",
              "    <path d=\"M0 0h24v24H0V0z\" fill=\"none\"/>\n",
              "    <path d=\"M18.56 5.44l.94 2.06.94-2.06 2.06-.94-2.06-.94-.94-2.06-.94 2.06-2.06.94zm-11 1L8.5 8.5l.94-2.06 2.06-.94-2.06-.94L8.5 2.5l-.94 2.06-2.06.94zm10 10l.94 2.06.94-2.06 2.06-.94-2.06-.94-.94-2.06-.94 2.06-2.06.94z\"/><path d=\"M17.41 7.96l-1.37-1.37c-.4-.4-.92-.59-1.43-.59-.52 0-1.04.2-1.43.59L10.3 9.45l-7.72 7.72c-.78.78-.78 2.05 0 2.83L4 21.41c.39.39.9.59 1.41.59.51 0 1.02-.2 1.41-.59l7.78-7.78 2.81-2.81c.8-.78.8-2.07 0-2.86zM5.41 20L4 18.59l7.72-7.72 1.47 1.35L5.41 20z\"/>\n",
              "  </svg>\n",
              "      </button>\n",
              "      \n",
              "  <style>\n",
              "    .colab-df-container {\n",
              "      display:flex;\n",
              "      flex-wrap:wrap;\n",
              "      gap: 12px;\n",
              "    }\n",
              "\n",
              "    .colab-df-convert {\n",
              "      background-color: #E8F0FE;\n",
              "      border: none;\n",
              "      border-radius: 50%;\n",
              "      cursor: pointer;\n",
              "      display: none;\n",
              "      fill: #1967D2;\n",
              "      height: 32px;\n",
              "      padding: 0 0 0 0;\n",
              "      width: 32px;\n",
              "    }\n",
              "\n",
              "    .colab-df-convert:hover {\n",
              "      background-color: #E2EBFA;\n",
              "      box-shadow: 0px 1px 2px rgba(60, 64, 67, 0.3), 0px 1px 3px 1px rgba(60, 64, 67, 0.15);\n",
              "      fill: #174EA6;\n",
              "    }\n",
              "\n",
              "    [theme=dark] .colab-df-convert {\n",
              "      background-color: #3B4455;\n",
              "      fill: #D2E3FC;\n",
              "    }\n",
              "\n",
              "    [theme=dark] .colab-df-convert:hover {\n",
              "      background-color: #434B5C;\n",
              "      box-shadow: 0px 1px 3px 1px rgba(0, 0, 0, 0.15);\n",
              "      filter: drop-shadow(0px 1px 2px rgba(0, 0, 0, 0.3));\n",
              "      fill: #FFFFFF;\n",
              "    }\n",
              "  </style>\n",
              "\n",
              "      <script>\n",
              "        const buttonEl =\n",
              "          document.querySelector('#df-1095a389-60c9-4b1f-88fc-f972a0c0a8cd button.colab-df-convert');\n",
              "        buttonEl.style.display =\n",
              "          google.colab.kernel.accessAllowed ? 'block' : 'none';\n",
              "\n",
              "        async function convertToInteractive(key) {\n",
              "          const element = document.querySelector('#df-1095a389-60c9-4b1f-88fc-f972a0c0a8cd');\n",
              "          const dataTable =\n",
              "            await google.colab.kernel.invokeFunction('convertToInteractive',\n",
              "                                                     [key], {});\n",
              "          if (!dataTable) return;\n",
              "\n",
              "          const docLinkHtml = 'Like what you see? Visit the ' +\n",
              "            '<a target=\"_blank\" href=https://colab.research.google.com/notebooks/data_table.ipynb>data table notebook</a>'\n",
              "            + ' to learn more about interactive tables.';\n",
              "          element.innerHTML = '';\n",
              "          dataTable['output_type'] = 'display_data';\n",
              "          await google.colab.output.renderOutput(dataTable, element);\n",
              "          const docLink = document.createElement('div');\n",
              "          docLink.innerHTML = docLinkHtml;\n",
              "          element.appendChild(docLink);\n",
              "        }\n",
              "      </script>\n",
              "    </div>\n",
              "  </div>\n",
              "  "
            ]
          },
          "metadata": {},
          "execution_count": 19
        }
      ]
    },
    {
      "cell_type": "code",
      "source": [
        "#removing . char from each rows\n",
        "def abcd(x):    \n",
        "    nopunc =[char for char in x if char != '.']\n",
        "    return ''.join(nopunc)\n",
        "df['data']=df['data'].apply(abcd)\n"
      ],
      "metadata": {
        "id": "-V-qW6SbTQMW"
      },
      "execution_count": null,
      "outputs": []
    },
    {
      "cell_type": "code",
      "source": [
        "#replacing empty space with null values\n",
        "df=df.replace('',np.nan,regex=True)\n",
        "df=df.mask(df==\" \")\n",
        "df=df.dropna()\n",
        "df.reset_index(drop=True,inplace=True)"
      ],
      "metadata": {
        "id": "NYwn1576looc"
      },
      "execution_count": null,
      "outputs": []
    },
    {
      "cell_type": "code",
      "source": [
        "#importing nltk library and stopwords\n",
        "import nltk\n",
        "import string"
      ],
      "metadata": {
        "id": "iyBSH3bJc3ms"
      },
      "execution_count": null,
      "outputs": []
    },
    {
      "cell_type": "code",
      "source": [
        "punc=[punc for punc in string.punctuation]"
      ],
      "metadata": {
        "id": "WLtSU4mXm4Rp"
      },
      "execution_count": null,
      "outputs": []
    },
    {
      "cell_type": "code",
      "source": [
        "#importing stop words files that are provided\n",
        "SW_Auditor=pd.read_csv(\"/content/drive/MyDrive/20211030 Test Assignment/StopWords/StopWords_Auditor.txt\",header=None)\n",
        "SW_Currencies=pd.read_csv(\"/content/drive/MyDrive/20211030 Test Assignment/StopWords/StopWords_Currencies.txt\",header=None,encoding=\"ISO-8859-1\",sep='\\n' )\n",
        "SW_DatesandNumbers=pd.read_csv(\"/content/drive/MyDrive/20211030 Test Assignment/StopWords/StopWords_DatesandNumbers.txt\",header=None)\n",
        "SW_Generic=pd.read_csv(\"/content/drive/MyDrive/20211030 Test Assignment/StopWords/StopWords_Generic.txt\",header=None)\n",
        "SW_GenericLong=pd.read_csv(\"/content/drive/MyDrive/20211030 Test Assignment/StopWords/StopWords_GenericLong.txt\",header=None)\n",
        "SW_Geographic=pd.read_csv(\"/content/drive/MyDrive/20211030 Test Assignment/StopWords/StopWords_Geographic.txt\",header=None)\n",
        "SW_Names=pd.read_csv(\"/content/drive/MyDrive/20211030 Test Assignment/StopWords/StopWords_Names.txt\",header=None)\n"
      ],
      "metadata": {
        "id": "s1xGY76Fm4OB"
      },
      "execution_count": null,
      "outputs": []
    },
    {
      "cell_type": "code",
      "source": [
        "#creating func for removing stop words\n",
        "def text_process(text):\n",
        "    nopunc =[char for char in text if char not in punc or char not in [':',',','(',')','’','?']]\n",
        "    nopunc=''.join(nopunc)\n",
        "    txt=' '.join([word for word in nopunc.split() if word.lower() not in SW_Auditor])\n",
        "    txt1=' '.join([word for word in txt.split() if word.lower() not in SW_Currencies])\n",
        "    txt2=' '.join([word for word in txt1.split() if word.lower() not in SW_DatesandNumbers])\n",
        "    txt3=' '.join([word for word in txt2.split() if word.lower() not in SW_Generic])\n",
        "    txt4=' '.join([word for word in txt3.split() if word.lower() not in SW_GenericLong])\n",
        "    txt5=' '.join([word for word in txt4.split() if word.lower() not in SW_Geographic])\n",
        "    return ' '.join([word for word in txt5.split() if word.lower() not in SW_Names])\n"
      ],
      "metadata": {
        "id": "sX1qAALqm4Kz"
      },
      "execution_count": null,
      "outputs": []
    },
    {
      "cell_type": "code",
      "source": [
        "#applying func for each row\n",
        "df['data']=df['data'].apply(text_process)"
      ],
      "metadata": {
        "id": "RH0fzgVym4H6"
      },
      "execution_count": null,
      "outputs": []
    },
    {
      "cell_type": "code",
      "source": [
        "#importing master Dictionary\n",
        "positive=pd.read_csv(\"/content/drive/MyDrive/20211030 Test Assignment/MasterDictionary/positive-words.txt\",header=None)\n",
        "negative=pd.read_csv(\"/content/drive/MyDrive/20211030 Test Assignment/MasterDictionary/negative-words.txt\",header=None,encoding=\"ISO-8859-1\",sep='\\n' )\n"
      ],
      "metadata": {
        "id": "s-ccXyf4IaeY"
      },
      "execution_count": null,
      "outputs": []
    },
    {
      "cell_type": "code",
      "source": [
        "positive.columns=['pos']\n",
        "negative.columns=['neg']\n",
        "positive['pos']=positive['pos'].astype(str)\n",
        "negative['neg']=negative['neg'].astype(str)"
      ],
      "metadata": {
        "id": "jKpEw9KuH8vh"
      },
      "execution_count": null,
      "outputs": []
    },
    {
      "cell_type": "code",
      "source": [
        "#positive and negative dictionary without stopwords\n",
        "positive['pos']=positive['pos'].apply(text_process)\n",
        "negative['neg']=negative['neg'].apply(text_process)"
      ],
      "metadata": {
        "id": "Cit_gYSDSm6p"
      },
      "execution_count": null,
      "outputs": []
    },
    {
      "cell_type": "code",
      "source": [
        "#positive list\n",
        "length=positive.shape[0]\n",
        "pos=[]\n",
        "for i in range(0,length):\n",
        "   nopunc =[char for char in positive.iloc[i] if char not in string.punctuation or char != '+']\n",
        "   nopunc=''.join(nopunc)\n",
        "\n",
        "   pos.append(nopunc)"
      ],
      "metadata": {
        "id": "9BZR-CHpVIwx"
      },
      "execution_count": null,
      "outputs": []
    },
    {
      "cell_type": "code",
      "source": [
        "#negative list\n",
        "length=negative.shape[0]\n",
        "neg=[]\n",
        "for i in range(0,length):\n",
        "  nopunc =[char for char in negative.iloc[i] if char not in string.punctuation or char != '+']\n",
        "  nopunc=''.join(nopunc)\n",
        "  neg.append(nopunc)"
      ],
      "metadata": {
        "id": "RDz17VIAPp8Q"
      },
      "execution_count": null,
      "outputs": []
    },
    {
      "cell_type": "markdown",
      "source": [
        "# TOKENIZATION"
      ],
      "metadata": {
        "id": "dPlNw-TFLPUR"
      }
    },
    {
      "cell_type": "code",
      "source": [
        "#importing tokenize library\n",
        "from nltk.tokenize import word_tokenize"
      ],
      "metadata": {
        "id": "sQ4IRcm1RseT"
      },
      "execution_count": null,
      "outputs": []
    },
    {
      "cell_type": "code",
      "source": [
        "import nltk\n",
        "nltk.download('punkt')"
      ],
      "metadata": {
        "colab": {
          "base_uri": "https://localhost:8080/"
        },
        "id": "sN2DdvUEa6mj",
        "outputId": "a8b03170-efdb-4123-910b-fbf6e52d333f"
      },
      "execution_count": null,
      "outputs": [
        {
          "output_type": "stream",
          "name": "stderr",
          "text": [
            "[nltk_data] Downloading package punkt to /root/nltk_data...\n",
            "[nltk_data]   Unzipping tokenizers/punkt.zip.\n"
          ]
        },
        {
          "output_type": "execute_result",
          "data": {
            "text/plain": [
              "True"
            ]
          },
          "metadata": {},
          "execution_count": 33
        }
      ]
    },
    {
      "cell_type": "code",
      "source": [
        "df['tokenized_sents'] = df.apply(lambda row: nltk.word_tokenize(row['data']), axis=1)"
      ],
      "metadata": {
        "id": "Nq02mcGVafr_"
      },
      "execution_count": null,
      "outputs": []
    },
    {
      "cell_type": "code",
      "source": [
        "df['tokenized_sents'].head()"
      ],
      "metadata": {
        "colab": {
          "base_uri": "https://localhost:8080/"
        },
        "id": "50XPiipkAcZt",
        "outputId": "251906c4-5edb-487c-a26d-16c55cab2da2"
      },
      "execution_count": null,
      "outputs": [
        {
          "output_type": "execute_result",
          "data": {
            "text/plain": [
              "0    [Ranking, customer, behaviours, for, business,...\n",
              "1    [Ranking, customer, behaviours, for, business,...\n",
              "2    [Ranking, customer, behaviours, for, business,...\n",
              "3    [Ranking, customer, behaviours, for, business,...\n",
              "4    [Ranking, customer, behaviours, for, business,...\n",
              "Name: tokenized_sents, dtype: object"
            ]
          },
          "metadata": {},
          "execution_count": 35
        }
      ]
    },
    {
      "cell_type": "code",
      "source": [
        "df['total_len'] = df['tokenized_sents'].map(lambda x: len(x))"
      ],
      "metadata": {
        "id": "_wUWCxwmLObA"
      },
      "execution_count": null,
      "outputs": []
    },
    {
      "cell_type": "markdown",
      "source": [
        "# CALCULATING SCORES"
      ],
      "metadata": {
        "id": "ImntdvsCLjHs"
      }
    },
    {
      "cell_type": "markdown",
      "source": [
        "### 1) POSITIVE SCORE"
      ],
      "metadata": {
        "id": "LEV13sFhOtdZ"
      }
    },
    {
      "cell_type": "code",
      "source": [
        "num_pos = df['tokenized_sents'].map(lambda x: len([i for i in x if i in pos]))\n",
        "df['positive_score'] = num_pos\n"
      ],
      "metadata": {
        "id": "qBJUnkLD8TTi"
      },
      "execution_count": null,
      "outputs": []
    },
    {
      "cell_type": "markdown",
      "source": [
        "### 2) NEGATIVE SCORE"
      ],
      "metadata": {
        "id": "TbnTPNmaPFZY"
      }
    },
    {
      "cell_type": "code",
      "source": [
        "num_neg = df['tokenized_sents'].map(lambda x: len([i for i in x if i in neg]))\n",
        "df['negative_score'] = num_neg"
      ],
      "metadata": {
        "id": "NW-BmJrrLITJ"
      },
      "execution_count": null,
      "outputs": []
    },
    {
      "cell_type": "markdown",
      "source": [
        "### 3) POLARITY SCORE"
      ],
      "metadata": {
        "id": "nOzdsFrmPs0Q"
      }
    },
    {
      "cell_type": "code",
      "source": [
        "#Polarity Score formula = (Positive Score – Negative Score)/ ((Positive Score + Negative Score) + 0.000001)\n",
        "Polarity_Score=(num_pos-num_neg)/((num_pos+num_neg)+0.000001)\n",
        "df['Polarity_Score'] = Polarity_Score"
      ],
      "metadata": {
        "id": "9dpYkSQ2hH3s"
      },
      "execution_count": null,
      "outputs": []
    },
    {
      "cell_type": "markdown",
      "source": [
        "### 4) SUBJECTIVITY SCORE"
      ],
      "metadata": {
        "id": "ROhnqKrnSLtv"
      }
    },
    {
      "cell_type": "code",
      "source": [
        "#Subjectivity Score formula = (Positive Score + Negative Score)/ ((Total Words after cleaning) + 0.000001)\n",
        "subjectiivity_score=(num_pos-num_neg)/((len(df['tokenized_sents']))+ 0.000001)\n",
        "df['subjectiivity_score'] = subjectiivity_score"
      ],
      "metadata": {
        "id": "FWLTdqkgSMBM"
      },
      "execution_count": null,
      "outputs": []
    },
    {
      "cell_type": "markdown",
      "source": [
        "### 5) AVG SENTENCE LENGTH"
      ],
      "metadata": {
        "id": "9TQxzV5EU1rz"
      }
    },
    {
      "cell_type": "code",
      "source": [
        "sum_of_length_of_sents = sum(df['total_len'].values)"
      ],
      "metadata": {
        "id": "Ey7K688EJzCE"
      },
      "execution_count": null,
      "outputs": []
    },
    {
      "cell_type": "code",
      "source": [
        "sum_of_length_of_sents"
      ],
      "metadata": {
        "colab": {
          "base_uri": "https://localhost:8080/"
        },
        "id": "GWudgwOnJ-Fi",
        "outputId": "2585ff5c-8ad5-4518-c0d1-064606431856"
      },
      "execution_count": null,
      "outputs": [
        {
          "output_type": "execute_result",
          "data": {
            "text/plain": [
              "184976"
            ]
          },
          "metadata": {},
          "execution_count": 42
        }
      ]
    },
    {
      "cell_type": "code",
      "source": [
        "length_of_sentence = []\n",
        "for i in df['total_len']:\n",
        "  length_of_sentence.append(i)"
      ],
      "metadata": {
        "id": "MYfvDbBEH05k"
      },
      "execution_count": null,
      "outputs": []
    },
    {
      "cell_type": "code",
      "source": [
        "avg_sents_length=sum_of_length_of_sents / length_of_sentence\n",
        "df['avg_senetence_length'] = avg_sents_length"
      ],
      "metadata": {
        "id": "E5BAXsssHO7M"
      },
      "execution_count": null,
      "outputs": []
    },
    {
      "cell_type": "markdown",
      "source": [
        "### 6) PERCENTAGE OF COMPLEX WORDS"
      ],
      "metadata": {
        "id": "90O5o3FHa0Ql"
      }
    },
    {
      "cell_type": "code",
      "source": [
        "#complex word individual count\n",
        "vowels=['a','e','i','o','u']\n",
        "import re\n",
        "count=0\n",
        "complex_Word_Count=0\n",
        "for i in str(df['tokenized_sents']):\n",
        "  x=re.compile('[es|ed]$')\n",
        "  if x.match(i.lower()):\n",
        "   count+=0\n",
        "  else:\n",
        "    for j in str(df['tokenized_sents']):\n",
        "      if(j.lower() in vowels ):\n",
        "        count+=1\n",
        "  if(count>2):\n",
        "   complex_Word_Count+=1\n",
        "  count=0\n"
      ],
      "metadata": {
        "id": "9Wx95gemUK9X"
      },
      "execution_count": null,
      "outputs": []
    },
    {
      "cell_type": "code",
      "source": [
        "Percentage_of_Complex_words=complex_Word_Count/df['total_len']\n",
        "df['Percentage_of_Complex_words'] = Percentage_of_Complex_words"
      ],
      "metadata": {
        "id": "4KfZE9shUK6H"
      },
      "execution_count": null,
      "outputs": []
    },
    {
      "cell_type": "markdown",
      "source": [
        "### 7) FOG INDEX"
      ],
      "metadata": {
        "id": "wSn_zCTlgMTF"
      }
    },
    {
      "cell_type": "code",
      "source": [
        "#Fog Index formula = 0.4 * (Average Sentence Length + Percentage of Complex words)\n",
        "Fog_Index = 0.4 * (avg_sents_length + Percentage_of_Complex_words)\n",
        "df['Fog_Index'] = Fog_Index"
      ],
      "metadata": {
        "id": "xd_zHORCflz8"
      },
      "execution_count": null,
      "outputs": []
    },
    {
      "cell_type": "markdown",
      "source": [
        "### 8) AVG NUMBER OF WORDS PER SENTENCE"
      ],
      "metadata": {
        "id": "z6tbgChOg0MT"
      }
    },
    {
      "cell_type": "code",
      "source": [
        "\n",
        "avg_no_of_words_per_sentence=df['total_len']/ df.shape[0]\n",
        "df['avg_no_of_words_per_sentence'] = avg_no_of_words_per_sentence"
      ],
      "metadata": {
        "id": "2NjRGOeWh3ih"
      },
      "execution_count": null,
      "outputs": []
    },
    {
      "cell_type": "markdown",
      "source": [
        "### 9) COMPLEX WORD COUNT"
      ],
      "metadata": {
        "id": "0gERUJr_lR4L"
      }
    },
    {
      "cell_type": "code",
      "source": [
        "def count_complex_words(word):  \n",
        "  vowels=['a','e','i','o','u']\n",
        "  import re\n",
        "  count=0\n",
        "  complex_Word_Count=0\n",
        "  for i in word:\n",
        "    x=re.compile('[es|ed]$')\n",
        "    if x.match(i.lower()):\n",
        "     count+=0\n",
        "    else:\n",
        "      for j in i:\n",
        "        if(j.lower() in vowels ):\n",
        "          count+=1\n",
        "    if(count>2):\n",
        "     complex_Word_Count+=1\n",
        "    count=0\n",
        "  return complex_Word_Count"
      ],
      "metadata": {
        "id": "yi3Rh84IoXoR"
      },
      "execution_count": null,
      "outputs": []
    },
    {
      "cell_type": "code",
      "source": [
        "df['complex_Word_Count'] = df['tokenized_sents'].apply(lambda x: count_complex_words((x)))"
      ],
      "metadata": {
        "id": "My92r2nWpdkU"
      },
      "execution_count": null,
      "outputs": []
    },
    {
      "cell_type": "code",
      "source": [
        "df.head()"
      ],
      "metadata": {
        "colab": {
          "base_uri": "https://localhost:8080/",
          "height": 704
        },
        "id": "9eVAt0Tunibo",
        "outputId": "156439b9-ba41-47fc-dc26-e7c34d49de7a"
      },
      "execution_count": null,
      "outputs": [
        {
          "output_type": "execute_result",
          "data": {
            "text/plain": [
              "                                                 URL  \\\n",
              "0  https://insights.blackcoffer.com/challenges-an...   \n",
              "1  https://insights.blackcoffer.com/business-anal...   \n",
              "2  https://insights.blackcoffer.com/big-data-anal...   \n",
              "3  https://insights.blackcoffer.com/the-future-of...   \n",
              "4  https://insights.blackcoffer.com/blockchain-fo...   \n",
              "\n",
              "                                                data  \\\n",
              "0  Ranking customer behaviours for business strat...   \n",
              "1  Ranking customer behaviours for business strat...   \n",
              "2  Ranking customer behaviours for business strat...   \n",
              "3  Ranking customer behaviours for business strat...   \n",
              "4  Ranking customer behaviours for business strat...   \n",
              "\n",
              "                                     tokenized_sents  total_len  \\\n",
              "0  [Ranking, customer, behaviours, for, business,...       1118   \n",
              "1  [Ranking, customer, behaviours, for, business,...        766   \n",
              "2  [Ranking, customer, behaviours, for, business,...       1254   \n",
              "3  [Ranking, customer, behaviours, for, business,...       1667   \n",
              "4  [Ranking, customer, behaviours, for, business,...        983   \n",
              "\n",
              "   positive_score  negative_score  Polarity_Score  subjectiivity_score  \\\n",
              "0              45              39        0.071429             0.041096   \n",
              "1              33               4        0.783784             0.198630   \n",
              "2              30              44       -0.189189            -0.095890   \n",
              "3              47              12        0.593220             0.239726   \n",
              "4              29              28        0.017544             0.006849   \n",
              "\n",
              "   avg_senetence_length  Percentage_of_Complex_words  Fog_Index  \\\n",
              "0            165.452594                     0.523256  66.390340   \n",
              "1            241.483029                     0.763708  96.898695   \n",
              "2            147.508772                     0.466507  59.190112   \n",
              "3            110.963407                     0.350930  44.525735   \n",
              "4            188.174975                     0.595117  75.508037   \n",
              "\n",
              "   avg_no_of_words_per_sentence  complex_Word_Count  \n",
              "0                      7.657534                 279  \n",
              "1                      5.246575                 259  \n",
              "2                      8.589041                 366  \n",
              "3                     11.417808                 454  \n",
              "4                      6.732877                 265  "
            ],
            "text/html": [
              "\n",
              "  <div id=\"df-390ff8aa-c02d-4059-a560-81188b06d94c\">\n",
              "    <div class=\"colab-df-container\">\n",
              "      <div>\n",
              "<style scoped>\n",
              "    .dataframe tbody tr th:only-of-type {\n",
              "        vertical-align: middle;\n",
              "    }\n",
              "\n",
              "    .dataframe tbody tr th {\n",
              "        vertical-align: top;\n",
              "    }\n",
              "\n",
              "    .dataframe thead th {\n",
              "        text-align: right;\n",
              "    }\n",
              "</style>\n",
              "<table border=\"1\" class=\"dataframe\">\n",
              "  <thead>\n",
              "    <tr style=\"text-align: right;\">\n",
              "      <th></th>\n",
              "      <th>URL</th>\n",
              "      <th>data</th>\n",
              "      <th>tokenized_sents</th>\n",
              "      <th>total_len</th>\n",
              "      <th>positive_score</th>\n",
              "      <th>negative_score</th>\n",
              "      <th>Polarity_Score</th>\n",
              "      <th>subjectiivity_score</th>\n",
              "      <th>avg_senetence_length</th>\n",
              "      <th>Percentage_of_Complex_words</th>\n",
              "      <th>Fog_Index</th>\n",
              "      <th>avg_no_of_words_per_sentence</th>\n",
              "      <th>complex_Word_Count</th>\n",
              "    </tr>\n",
              "  </thead>\n",
              "  <tbody>\n",
              "    <tr>\n",
              "      <th>0</th>\n",
              "      <td>https://insights.blackcoffer.com/challenges-an...</td>\n",
              "      <td>Ranking customer behaviours for business strat...</td>\n",
              "      <td>[Ranking, customer, behaviours, for, business,...</td>\n",
              "      <td>1118</td>\n",
              "      <td>45</td>\n",
              "      <td>39</td>\n",
              "      <td>0.071429</td>\n",
              "      <td>0.041096</td>\n",
              "      <td>165.452594</td>\n",
              "      <td>0.523256</td>\n",
              "      <td>66.390340</td>\n",
              "      <td>7.657534</td>\n",
              "      <td>279</td>\n",
              "    </tr>\n",
              "    <tr>\n",
              "      <th>1</th>\n",
              "      <td>https://insights.blackcoffer.com/business-anal...</td>\n",
              "      <td>Ranking customer behaviours for business strat...</td>\n",
              "      <td>[Ranking, customer, behaviours, for, business,...</td>\n",
              "      <td>766</td>\n",
              "      <td>33</td>\n",
              "      <td>4</td>\n",
              "      <td>0.783784</td>\n",
              "      <td>0.198630</td>\n",
              "      <td>241.483029</td>\n",
              "      <td>0.763708</td>\n",
              "      <td>96.898695</td>\n",
              "      <td>5.246575</td>\n",
              "      <td>259</td>\n",
              "    </tr>\n",
              "    <tr>\n",
              "      <th>2</th>\n",
              "      <td>https://insights.blackcoffer.com/big-data-anal...</td>\n",
              "      <td>Ranking customer behaviours for business strat...</td>\n",
              "      <td>[Ranking, customer, behaviours, for, business,...</td>\n",
              "      <td>1254</td>\n",
              "      <td>30</td>\n",
              "      <td>44</td>\n",
              "      <td>-0.189189</td>\n",
              "      <td>-0.095890</td>\n",
              "      <td>147.508772</td>\n",
              "      <td>0.466507</td>\n",
              "      <td>59.190112</td>\n",
              "      <td>8.589041</td>\n",
              "      <td>366</td>\n",
              "    </tr>\n",
              "    <tr>\n",
              "      <th>3</th>\n",
              "      <td>https://insights.blackcoffer.com/the-future-of...</td>\n",
              "      <td>Ranking customer behaviours for business strat...</td>\n",
              "      <td>[Ranking, customer, behaviours, for, business,...</td>\n",
              "      <td>1667</td>\n",
              "      <td>47</td>\n",
              "      <td>12</td>\n",
              "      <td>0.593220</td>\n",
              "      <td>0.239726</td>\n",
              "      <td>110.963407</td>\n",
              "      <td>0.350930</td>\n",
              "      <td>44.525735</td>\n",
              "      <td>11.417808</td>\n",
              "      <td>454</td>\n",
              "    </tr>\n",
              "    <tr>\n",
              "      <th>4</th>\n",
              "      <td>https://insights.blackcoffer.com/blockchain-fo...</td>\n",
              "      <td>Ranking customer behaviours for business strat...</td>\n",
              "      <td>[Ranking, customer, behaviours, for, business,...</td>\n",
              "      <td>983</td>\n",
              "      <td>29</td>\n",
              "      <td>28</td>\n",
              "      <td>0.017544</td>\n",
              "      <td>0.006849</td>\n",
              "      <td>188.174975</td>\n",
              "      <td>0.595117</td>\n",
              "      <td>75.508037</td>\n",
              "      <td>6.732877</td>\n",
              "      <td>265</td>\n",
              "    </tr>\n",
              "  </tbody>\n",
              "</table>\n",
              "</div>\n",
              "      <button class=\"colab-df-convert\" onclick=\"convertToInteractive('df-390ff8aa-c02d-4059-a560-81188b06d94c')\"\n",
              "              title=\"Convert this dataframe to an interactive table.\"\n",
              "              style=\"display:none;\">\n",
              "        \n",
              "  <svg xmlns=\"http://www.w3.org/2000/svg\" height=\"24px\"viewBox=\"0 0 24 24\"\n",
              "       width=\"24px\">\n",
              "    <path d=\"M0 0h24v24H0V0z\" fill=\"none\"/>\n",
              "    <path d=\"M18.56 5.44l.94 2.06.94-2.06 2.06-.94-2.06-.94-.94-2.06-.94 2.06-2.06.94zm-11 1L8.5 8.5l.94-2.06 2.06-.94-2.06-.94L8.5 2.5l-.94 2.06-2.06.94zm10 10l.94 2.06.94-2.06 2.06-.94-2.06-.94-.94-2.06-.94 2.06-2.06.94z\"/><path d=\"M17.41 7.96l-1.37-1.37c-.4-.4-.92-.59-1.43-.59-.52 0-1.04.2-1.43.59L10.3 9.45l-7.72 7.72c-.78.78-.78 2.05 0 2.83L4 21.41c.39.39.9.59 1.41.59.51 0 1.02-.2 1.41-.59l7.78-7.78 2.81-2.81c.8-.78.8-2.07 0-2.86zM5.41 20L4 18.59l7.72-7.72 1.47 1.35L5.41 20z\"/>\n",
              "  </svg>\n",
              "      </button>\n",
              "      \n",
              "  <style>\n",
              "    .colab-df-container {\n",
              "      display:flex;\n",
              "      flex-wrap:wrap;\n",
              "      gap: 12px;\n",
              "    }\n",
              "\n",
              "    .colab-df-convert {\n",
              "      background-color: #E8F0FE;\n",
              "      border: none;\n",
              "      border-radius: 50%;\n",
              "      cursor: pointer;\n",
              "      display: none;\n",
              "      fill: #1967D2;\n",
              "      height: 32px;\n",
              "      padding: 0 0 0 0;\n",
              "      width: 32px;\n",
              "    }\n",
              "\n",
              "    .colab-df-convert:hover {\n",
              "      background-color: #E2EBFA;\n",
              "      box-shadow: 0px 1px 2px rgba(60, 64, 67, 0.3), 0px 1px 3px 1px rgba(60, 64, 67, 0.15);\n",
              "      fill: #174EA6;\n",
              "    }\n",
              "\n",
              "    [theme=dark] .colab-df-convert {\n",
              "      background-color: #3B4455;\n",
              "      fill: #D2E3FC;\n",
              "    }\n",
              "\n",
              "    [theme=dark] .colab-df-convert:hover {\n",
              "      background-color: #434B5C;\n",
              "      box-shadow: 0px 1px 3px 1px rgba(0, 0, 0, 0.15);\n",
              "      filter: drop-shadow(0px 1px 2px rgba(0, 0, 0, 0.3));\n",
              "      fill: #FFFFFF;\n",
              "    }\n",
              "  </style>\n",
              "\n",
              "      <script>\n",
              "        const buttonEl =\n",
              "          document.querySelector('#df-390ff8aa-c02d-4059-a560-81188b06d94c button.colab-df-convert');\n",
              "        buttonEl.style.display =\n",
              "          google.colab.kernel.accessAllowed ? 'block' : 'none';\n",
              "\n",
              "        async function convertToInteractive(key) {\n",
              "          const element = document.querySelector('#df-390ff8aa-c02d-4059-a560-81188b06d94c');\n",
              "          const dataTable =\n",
              "            await google.colab.kernel.invokeFunction('convertToInteractive',\n",
              "                                                     [key], {});\n",
              "          if (!dataTable) return;\n",
              "\n",
              "          const docLinkHtml = 'Like what you see? Visit the ' +\n",
              "            '<a target=\"_blank\" href=https://colab.research.google.com/notebooks/data_table.ipynb>data table notebook</a>'\n",
              "            + ' to learn more about interactive tables.';\n",
              "          element.innerHTML = '';\n",
              "          dataTable['output_type'] = 'display_data';\n",
              "          await google.colab.output.renderOutput(dataTable, element);\n",
              "          const docLink = document.createElement('div');\n",
              "          docLink.innerHTML = docLinkHtml;\n",
              "          element.appendChild(docLink);\n",
              "        }\n",
              "      </script>\n",
              "    </div>\n",
              "  </div>\n",
              "  "
            ]
          },
          "metadata": {},
          "execution_count": 51
        }
      ]
    },
    {
      "cell_type": "markdown",
      "source": [
        "### 10) WORD COUNT"
      ],
      "metadata": {
        "id": "EDbM2keclqrj"
      }
    },
    {
      "cell_type": "code",
      "source": [
        "df['word_count'] = df['tokenized_sents'].map(lambda x: len(x))"
      ],
      "metadata": {
        "id": "DEAJBbA5IrcZ"
      },
      "execution_count": null,
      "outputs": []
    },
    {
      "cell_type": "markdown",
      "source": [
        "### 11) SYLLABLE PER WORD"
      ],
      "metadata": {
        "id": "zfqS5QdcmAdK"
      }
    },
    {
      "cell_type": "code",
      "source": [
        "def syllable_count(word):\n",
        "    word = word.lower()\n",
        "    count = 0\n",
        "    vowels = \"aeiouy\"\n",
        "    if word[0] in vowels:\n",
        "        count += 1\n",
        "    for index in range(1, len(word)):\n",
        "        if word[index] in vowels and word[index - 1] not in vowels:\n",
        "            count += 1\n",
        "    if word.endswith(\"e\"):\n",
        "        count -= 1\n",
        "    if count == 0:\n",
        "        count += 1\n",
        "    return count"
      ],
      "metadata": {
        "id": "0eKx7DzVnoN8"
      },
      "execution_count": null,
      "outputs": []
    },
    {
      "cell_type": "code",
      "source": [
        "df['syllable_count'] = df['tokenized_sents'].apply(lambda x: syllable_count(str(x)))"
      ],
      "metadata": {
        "id": "EbXIgqy0onL9"
      },
      "execution_count": null,
      "outputs": []
    },
    {
      "cell_type": "markdown",
      "source": [
        "### 12) PERSONAL PRONOUNS"
      ],
      "metadata": {
        "id": "BcBCr8CtmuoS"
      }
    },
    {
      "cell_type": "code",
      "source": [
        "def pronoun_count(word):  \n",
        "  pronouns=['i','we','my','ours','us' ]\n",
        "  import re\n",
        "  count=0\n",
        "  for i in word:\n",
        "    if i.lower() in pronouns:\n",
        "      count+=1\n",
        "  return count"
      ],
      "metadata": {
        "id": "aeRcGapymu-D"
      },
      "execution_count": null,
      "outputs": []
    },
    {
      "cell_type": "code",
      "source": [
        "df['personal_pronouns'] = df['tokenized_sents'].apply(lambda x: pronoun_count((x)))"
      ],
      "metadata": {
        "id": "6Q7EFkDlm2a0"
      },
      "execution_count": null,
      "outputs": []
    },
    {
      "cell_type": "code",
      "source": [
        "df.head()"
      ],
      "metadata": {
        "colab": {
          "base_uri": "https://localhost:8080/",
          "height": 704
        },
        "id": "JfCVPMNNw9Ta",
        "outputId": "4aa3355d-987a-4e91-9d96-72b8888251fd"
      },
      "execution_count": null,
      "outputs": [
        {
          "output_type": "execute_result",
          "data": {
            "text/plain": [
              "                                                 URL  \\\n",
              "0  https://insights.blackcoffer.com/challenges-an...   \n",
              "1  https://insights.blackcoffer.com/business-anal...   \n",
              "2  https://insights.blackcoffer.com/big-data-anal...   \n",
              "3  https://insights.blackcoffer.com/the-future-of...   \n",
              "4  https://insights.blackcoffer.com/blockchain-fo...   \n",
              "\n",
              "                                                data  \\\n",
              "0  Ranking customer behaviours for business strat...   \n",
              "1  Ranking customer behaviours for business strat...   \n",
              "2  Ranking customer behaviours for business strat...   \n",
              "3  Ranking customer behaviours for business strat...   \n",
              "4  Ranking customer behaviours for business strat...   \n",
              "\n",
              "                                     tokenized_sents  total_len  \\\n",
              "0  [Ranking, customer, behaviours, for, business,...       1118   \n",
              "1  [Ranking, customer, behaviours, for, business,...        766   \n",
              "2  [Ranking, customer, behaviours, for, business,...       1254   \n",
              "3  [Ranking, customer, behaviours, for, business,...       1667   \n",
              "4  [Ranking, customer, behaviours, for, business,...        983   \n",
              "\n",
              "   positive_score  negative_score  Polarity_Score  subjectiivity_score  \\\n",
              "0              45              39        0.071429             0.041096   \n",
              "1              33               4        0.783784             0.198630   \n",
              "2              30              44       -0.189189            -0.095890   \n",
              "3              47              12        0.593220             0.239726   \n",
              "4              29              28        0.017544             0.006849   \n",
              "\n",
              "   avg_senetence_length  Percentage_of_Complex_words  Fog_Index  \\\n",
              "0            165.452594                     0.523256  66.390340   \n",
              "1            241.483029                     0.763708  96.898695   \n",
              "2            147.508772                     0.466507  59.190112   \n",
              "3            110.963407                     0.350930  44.525735   \n",
              "4            188.174975                     0.595117  75.508037   \n",
              "\n",
              "   avg_no_of_words_per_sentence  complex_Word_Count  word_count  \\\n",
              "0                      7.657534                 279        1118   \n",
              "1                      5.246575                 259         766   \n",
              "2                      8.589041                 366        1254   \n",
              "3                     11.417808                 454        1667   \n",
              "4                      6.732877                 265         983   \n",
              "\n",
              "   syllable_count  personal_pronouns  \n",
              "0            1957                  8  \n",
              "1            1476                  0  \n",
              "2            2162                  2  \n",
              "3            2793                 18  \n",
              "4            1712                  9  "
            ],
            "text/html": [
              "\n",
              "  <div id=\"df-ec15a61f-0d4f-4ce9-b193-a8ab45b75fe8\">\n",
              "    <div class=\"colab-df-container\">\n",
              "      <div>\n",
              "<style scoped>\n",
              "    .dataframe tbody tr th:only-of-type {\n",
              "        vertical-align: middle;\n",
              "    }\n",
              "\n",
              "    .dataframe tbody tr th {\n",
              "        vertical-align: top;\n",
              "    }\n",
              "\n",
              "    .dataframe thead th {\n",
              "        text-align: right;\n",
              "    }\n",
              "</style>\n",
              "<table border=\"1\" class=\"dataframe\">\n",
              "  <thead>\n",
              "    <tr style=\"text-align: right;\">\n",
              "      <th></th>\n",
              "      <th>URL</th>\n",
              "      <th>data</th>\n",
              "      <th>tokenized_sents</th>\n",
              "      <th>total_len</th>\n",
              "      <th>positive_score</th>\n",
              "      <th>negative_score</th>\n",
              "      <th>Polarity_Score</th>\n",
              "      <th>subjectiivity_score</th>\n",
              "      <th>avg_senetence_length</th>\n",
              "      <th>Percentage_of_Complex_words</th>\n",
              "      <th>Fog_Index</th>\n",
              "      <th>avg_no_of_words_per_sentence</th>\n",
              "      <th>complex_Word_Count</th>\n",
              "      <th>word_count</th>\n",
              "      <th>syllable_count</th>\n",
              "      <th>personal_pronouns</th>\n",
              "    </tr>\n",
              "  </thead>\n",
              "  <tbody>\n",
              "    <tr>\n",
              "      <th>0</th>\n",
              "      <td>https://insights.blackcoffer.com/challenges-an...</td>\n",
              "      <td>Ranking customer behaviours for business strat...</td>\n",
              "      <td>[Ranking, customer, behaviours, for, business,...</td>\n",
              "      <td>1118</td>\n",
              "      <td>45</td>\n",
              "      <td>39</td>\n",
              "      <td>0.071429</td>\n",
              "      <td>0.041096</td>\n",
              "      <td>165.452594</td>\n",
              "      <td>0.523256</td>\n",
              "      <td>66.390340</td>\n",
              "      <td>7.657534</td>\n",
              "      <td>279</td>\n",
              "      <td>1118</td>\n",
              "      <td>1957</td>\n",
              "      <td>8</td>\n",
              "    </tr>\n",
              "    <tr>\n",
              "      <th>1</th>\n",
              "      <td>https://insights.blackcoffer.com/business-anal...</td>\n",
              "      <td>Ranking customer behaviours for business strat...</td>\n",
              "      <td>[Ranking, customer, behaviours, for, business,...</td>\n",
              "      <td>766</td>\n",
              "      <td>33</td>\n",
              "      <td>4</td>\n",
              "      <td>0.783784</td>\n",
              "      <td>0.198630</td>\n",
              "      <td>241.483029</td>\n",
              "      <td>0.763708</td>\n",
              "      <td>96.898695</td>\n",
              "      <td>5.246575</td>\n",
              "      <td>259</td>\n",
              "      <td>766</td>\n",
              "      <td>1476</td>\n",
              "      <td>0</td>\n",
              "    </tr>\n",
              "    <tr>\n",
              "      <th>2</th>\n",
              "      <td>https://insights.blackcoffer.com/big-data-anal...</td>\n",
              "      <td>Ranking customer behaviours for business strat...</td>\n",
              "      <td>[Ranking, customer, behaviours, for, business,...</td>\n",
              "      <td>1254</td>\n",
              "      <td>30</td>\n",
              "      <td>44</td>\n",
              "      <td>-0.189189</td>\n",
              "      <td>-0.095890</td>\n",
              "      <td>147.508772</td>\n",
              "      <td>0.466507</td>\n",
              "      <td>59.190112</td>\n",
              "      <td>8.589041</td>\n",
              "      <td>366</td>\n",
              "      <td>1254</td>\n",
              "      <td>2162</td>\n",
              "      <td>2</td>\n",
              "    </tr>\n",
              "    <tr>\n",
              "      <th>3</th>\n",
              "      <td>https://insights.blackcoffer.com/the-future-of...</td>\n",
              "      <td>Ranking customer behaviours for business strat...</td>\n",
              "      <td>[Ranking, customer, behaviours, for, business,...</td>\n",
              "      <td>1667</td>\n",
              "      <td>47</td>\n",
              "      <td>12</td>\n",
              "      <td>0.593220</td>\n",
              "      <td>0.239726</td>\n",
              "      <td>110.963407</td>\n",
              "      <td>0.350930</td>\n",
              "      <td>44.525735</td>\n",
              "      <td>11.417808</td>\n",
              "      <td>454</td>\n",
              "      <td>1667</td>\n",
              "      <td>2793</td>\n",
              "      <td>18</td>\n",
              "    </tr>\n",
              "    <tr>\n",
              "      <th>4</th>\n",
              "      <td>https://insights.blackcoffer.com/blockchain-fo...</td>\n",
              "      <td>Ranking customer behaviours for business strat...</td>\n",
              "      <td>[Ranking, customer, behaviours, for, business,...</td>\n",
              "      <td>983</td>\n",
              "      <td>29</td>\n",
              "      <td>28</td>\n",
              "      <td>0.017544</td>\n",
              "      <td>0.006849</td>\n",
              "      <td>188.174975</td>\n",
              "      <td>0.595117</td>\n",
              "      <td>75.508037</td>\n",
              "      <td>6.732877</td>\n",
              "      <td>265</td>\n",
              "      <td>983</td>\n",
              "      <td>1712</td>\n",
              "      <td>9</td>\n",
              "    </tr>\n",
              "  </tbody>\n",
              "</table>\n",
              "</div>\n",
              "      <button class=\"colab-df-convert\" onclick=\"convertToInteractive('df-ec15a61f-0d4f-4ce9-b193-a8ab45b75fe8')\"\n",
              "              title=\"Convert this dataframe to an interactive table.\"\n",
              "              style=\"display:none;\">\n",
              "        \n",
              "  <svg xmlns=\"http://www.w3.org/2000/svg\" height=\"24px\"viewBox=\"0 0 24 24\"\n",
              "       width=\"24px\">\n",
              "    <path d=\"M0 0h24v24H0V0z\" fill=\"none\"/>\n",
              "    <path d=\"M18.56 5.44l.94 2.06.94-2.06 2.06-.94-2.06-.94-.94-2.06-.94 2.06-2.06.94zm-11 1L8.5 8.5l.94-2.06 2.06-.94-2.06-.94L8.5 2.5l-.94 2.06-2.06.94zm10 10l.94 2.06.94-2.06 2.06-.94-2.06-.94-.94-2.06-.94 2.06-2.06.94z\"/><path d=\"M17.41 7.96l-1.37-1.37c-.4-.4-.92-.59-1.43-.59-.52 0-1.04.2-1.43.59L10.3 9.45l-7.72 7.72c-.78.78-.78 2.05 0 2.83L4 21.41c.39.39.9.59 1.41.59.51 0 1.02-.2 1.41-.59l7.78-7.78 2.81-2.81c.8-.78.8-2.07 0-2.86zM5.41 20L4 18.59l7.72-7.72 1.47 1.35L5.41 20z\"/>\n",
              "  </svg>\n",
              "      </button>\n",
              "      \n",
              "  <style>\n",
              "    .colab-df-container {\n",
              "      display:flex;\n",
              "      flex-wrap:wrap;\n",
              "      gap: 12px;\n",
              "    }\n",
              "\n",
              "    .colab-df-convert {\n",
              "      background-color: #E8F0FE;\n",
              "      border: none;\n",
              "      border-radius: 50%;\n",
              "      cursor: pointer;\n",
              "      display: none;\n",
              "      fill: #1967D2;\n",
              "      height: 32px;\n",
              "      padding: 0 0 0 0;\n",
              "      width: 32px;\n",
              "    }\n",
              "\n",
              "    .colab-df-convert:hover {\n",
              "      background-color: #E2EBFA;\n",
              "      box-shadow: 0px 1px 2px rgba(60, 64, 67, 0.3), 0px 1px 3px 1px rgba(60, 64, 67, 0.15);\n",
              "      fill: #174EA6;\n",
              "    }\n",
              "\n",
              "    [theme=dark] .colab-df-convert {\n",
              "      background-color: #3B4455;\n",
              "      fill: #D2E3FC;\n",
              "    }\n",
              "\n",
              "    [theme=dark] .colab-df-convert:hover {\n",
              "      background-color: #434B5C;\n",
              "      box-shadow: 0px 1px 3px 1px rgba(0, 0, 0, 0.15);\n",
              "      filter: drop-shadow(0px 1px 2px rgba(0, 0, 0, 0.3));\n",
              "      fill: #FFFFFF;\n",
              "    }\n",
              "  </style>\n",
              "\n",
              "      <script>\n",
              "        const buttonEl =\n",
              "          document.querySelector('#df-ec15a61f-0d4f-4ce9-b193-a8ab45b75fe8 button.colab-df-convert');\n",
              "        buttonEl.style.display =\n",
              "          google.colab.kernel.accessAllowed ? 'block' : 'none';\n",
              "\n",
              "        async function convertToInteractive(key) {\n",
              "          const element = document.querySelector('#df-ec15a61f-0d4f-4ce9-b193-a8ab45b75fe8');\n",
              "          const dataTable =\n",
              "            await google.colab.kernel.invokeFunction('convertToInteractive',\n",
              "                                                     [key], {});\n",
              "          if (!dataTable) return;\n",
              "\n",
              "          const docLinkHtml = 'Like what you see? Visit the ' +\n",
              "            '<a target=\"_blank\" href=https://colab.research.google.com/notebooks/data_table.ipynb>data table notebook</a>'\n",
              "            + ' to learn more about interactive tables.';\n",
              "          element.innerHTML = '';\n",
              "          dataTable['output_type'] = 'display_data';\n",
              "          await google.colab.output.renderOutput(dataTable, element);\n",
              "          const docLink = document.createElement('div');\n",
              "          docLink.innerHTML = docLinkHtml;\n",
              "          element.appendChild(docLink);\n",
              "        }\n",
              "      </script>\n",
              "    </div>\n",
              "  </div>\n",
              "  "
            ]
          },
          "metadata": {},
          "execution_count": 57
        }
      ]
    },
    {
      "cell_type": "markdown",
      "source": [
        "### 13) AVG WORD LENGTH"
      ],
      "metadata": {
        "id": "-uWlAk9roY5y"
      }
    },
    {
      "cell_type": "code",
      "source": [
        "def word_count_number(sentence):\n",
        "  count=0\n",
        "  for i in (sentence):\n",
        "    for j in i:\n",
        "      for k in j:\n",
        "        count += 1\n",
        "  return count"
      ],
      "metadata": {
        "id": "_Dx9rtiNeVPJ"
      },
      "execution_count": null,
      "outputs": []
    },
    {
      "cell_type": "code",
      "source": [
        "df['number_of_words'] = df['tokenized_sents'].apply(lambda x: word_count_number((x)))"
      ],
      "metadata": {
        "id": "fPfDxAwmgFgb"
      },
      "execution_count": null,
      "outputs": []
    },
    {
      "cell_type": "code",
      "source": [
        "df['avg_word_length'] = df['number_of_words']/df['word_count']"
      ],
      "metadata": {
        "id": "JZRW9ddgeVMI"
      },
      "execution_count": null,
      "outputs": []
    },
    {
      "cell_type": "code",
      "source": [
        "df.drop(columns = (['number_of_words']), inplace = True)"
      ],
      "metadata": {
        "id": "YBR3QeHkk0sT"
      },
      "execution_count": null,
      "outputs": []
    },
    {
      "cell_type": "code",
      "source": [
        "output_data=df.copy()"
      ],
      "metadata": {
        "id": "DXp7kF2FExVD"
      },
      "execution_count": null,
      "outputs": []
    },
    {
      "cell_type": "code",
      "source": [
        "output_data.head()"
      ],
      "metadata": {
        "colab": {
          "base_uri": "https://localhost:8080/",
          "height": 704
        },
        "id": "9MQXwRmsGKID",
        "outputId": "bdaedb1d-8805-408b-f48b-20621e1bd082"
      },
      "execution_count": null,
      "outputs": [
        {
          "output_type": "execute_result",
          "data": {
            "text/plain": [
              "                                                 URL  \\\n",
              "0  https://insights.blackcoffer.com/challenges-an...   \n",
              "1  https://insights.blackcoffer.com/business-anal...   \n",
              "2  https://insights.blackcoffer.com/big-data-anal...   \n",
              "3  https://insights.blackcoffer.com/the-future-of...   \n",
              "4  https://insights.blackcoffer.com/blockchain-fo...   \n",
              "\n",
              "                                                data  \\\n",
              "0  Ranking customer behaviours for business strat...   \n",
              "1  Ranking customer behaviours for business strat...   \n",
              "2  Ranking customer behaviours for business strat...   \n",
              "3  Ranking customer behaviours for business strat...   \n",
              "4  Ranking customer behaviours for business strat...   \n",
              "\n",
              "                                     tokenized_sents  total_len  \\\n",
              "0  [Ranking, customer, behaviours, for, business,...       1118   \n",
              "1  [Ranking, customer, behaviours, for, business,...        766   \n",
              "2  [Ranking, customer, behaviours, for, business,...       1254   \n",
              "3  [Ranking, customer, behaviours, for, business,...       1667   \n",
              "4  [Ranking, customer, behaviours, for, business,...        983   \n",
              "\n",
              "   positive_score  negative_score  Polarity_Score  subjectiivity_score  \\\n",
              "0              45              39        0.071429             0.041096   \n",
              "1              33               4        0.783784             0.198630   \n",
              "2              30              44       -0.189189            -0.095890   \n",
              "3              47              12        0.593220             0.239726   \n",
              "4              29              28        0.017544             0.006849   \n",
              "\n",
              "   avg_senetence_length  Percentage_of_Complex_words  Fog_Index  \\\n",
              "0            165.452594                     0.523256  66.390340   \n",
              "1            241.483029                     0.763708  96.898695   \n",
              "2            147.508772                     0.466507  59.190112   \n",
              "3            110.963407                     0.350930  44.525735   \n",
              "4            188.174975                     0.595117  75.508037   \n",
              "\n",
              "   avg_no_of_words_per_sentence  complex_Word_Count  word_count  \\\n",
              "0                      7.657534                 279        1118   \n",
              "1                      5.246575                 259         766   \n",
              "2                      8.589041                 366        1254   \n",
              "3                     11.417808                 454        1667   \n",
              "4                      6.732877                 265         983   \n",
              "\n",
              "   syllable_count  personal_pronouns  avg_word_length  \n",
              "0            1957                  8         4.812165  \n",
              "1            1476                  0         5.449086  \n",
              "2            2162                  2         4.811005  \n",
              "3            2793                 18         4.901020  \n",
              "4            1712                  9         5.109868  "
            ],
            "text/html": [
              "\n",
              "  <div id=\"df-08d51935-1f57-43cb-9a73-56c665dd3335\">\n",
              "    <div class=\"colab-df-container\">\n",
              "      <div>\n",
              "<style scoped>\n",
              "    .dataframe tbody tr th:only-of-type {\n",
              "        vertical-align: middle;\n",
              "    }\n",
              "\n",
              "    .dataframe tbody tr th {\n",
              "        vertical-align: top;\n",
              "    }\n",
              "\n",
              "    .dataframe thead th {\n",
              "        text-align: right;\n",
              "    }\n",
              "</style>\n",
              "<table border=\"1\" class=\"dataframe\">\n",
              "  <thead>\n",
              "    <tr style=\"text-align: right;\">\n",
              "      <th></th>\n",
              "      <th>URL</th>\n",
              "      <th>data</th>\n",
              "      <th>tokenized_sents</th>\n",
              "      <th>total_len</th>\n",
              "      <th>positive_score</th>\n",
              "      <th>negative_score</th>\n",
              "      <th>Polarity_Score</th>\n",
              "      <th>subjectiivity_score</th>\n",
              "      <th>avg_senetence_length</th>\n",
              "      <th>Percentage_of_Complex_words</th>\n",
              "      <th>Fog_Index</th>\n",
              "      <th>avg_no_of_words_per_sentence</th>\n",
              "      <th>complex_Word_Count</th>\n",
              "      <th>word_count</th>\n",
              "      <th>syllable_count</th>\n",
              "      <th>personal_pronouns</th>\n",
              "      <th>avg_word_length</th>\n",
              "    </tr>\n",
              "  </thead>\n",
              "  <tbody>\n",
              "    <tr>\n",
              "      <th>0</th>\n",
              "      <td>https://insights.blackcoffer.com/challenges-an...</td>\n",
              "      <td>Ranking customer behaviours for business strat...</td>\n",
              "      <td>[Ranking, customer, behaviours, for, business,...</td>\n",
              "      <td>1118</td>\n",
              "      <td>45</td>\n",
              "      <td>39</td>\n",
              "      <td>0.071429</td>\n",
              "      <td>0.041096</td>\n",
              "      <td>165.452594</td>\n",
              "      <td>0.523256</td>\n",
              "      <td>66.390340</td>\n",
              "      <td>7.657534</td>\n",
              "      <td>279</td>\n",
              "      <td>1118</td>\n",
              "      <td>1957</td>\n",
              "      <td>8</td>\n",
              "      <td>4.812165</td>\n",
              "    </tr>\n",
              "    <tr>\n",
              "      <th>1</th>\n",
              "      <td>https://insights.blackcoffer.com/business-anal...</td>\n",
              "      <td>Ranking customer behaviours for business strat...</td>\n",
              "      <td>[Ranking, customer, behaviours, for, business,...</td>\n",
              "      <td>766</td>\n",
              "      <td>33</td>\n",
              "      <td>4</td>\n",
              "      <td>0.783784</td>\n",
              "      <td>0.198630</td>\n",
              "      <td>241.483029</td>\n",
              "      <td>0.763708</td>\n",
              "      <td>96.898695</td>\n",
              "      <td>5.246575</td>\n",
              "      <td>259</td>\n",
              "      <td>766</td>\n",
              "      <td>1476</td>\n",
              "      <td>0</td>\n",
              "      <td>5.449086</td>\n",
              "    </tr>\n",
              "    <tr>\n",
              "      <th>2</th>\n",
              "      <td>https://insights.blackcoffer.com/big-data-anal...</td>\n",
              "      <td>Ranking customer behaviours for business strat...</td>\n",
              "      <td>[Ranking, customer, behaviours, for, business,...</td>\n",
              "      <td>1254</td>\n",
              "      <td>30</td>\n",
              "      <td>44</td>\n",
              "      <td>-0.189189</td>\n",
              "      <td>-0.095890</td>\n",
              "      <td>147.508772</td>\n",
              "      <td>0.466507</td>\n",
              "      <td>59.190112</td>\n",
              "      <td>8.589041</td>\n",
              "      <td>366</td>\n",
              "      <td>1254</td>\n",
              "      <td>2162</td>\n",
              "      <td>2</td>\n",
              "      <td>4.811005</td>\n",
              "    </tr>\n",
              "    <tr>\n",
              "      <th>3</th>\n",
              "      <td>https://insights.blackcoffer.com/the-future-of...</td>\n",
              "      <td>Ranking customer behaviours for business strat...</td>\n",
              "      <td>[Ranking, customer, behaviours, for, business,...</td>\n",
              "      <td>1667</td>\n",
              "      <td>47</td>\n",
              "      <td>12</td>\n",
              "      <td>0.593220</td>\n",
              "      <td>0.239726</td>\n",
              "      <td>110.963407</td>\n",
              "      <td>0.350930</td>\n",
              "      <td>44.525735</td>\n",
              "      <td>11.417808</td>\n",
              "      <td>454</td>\n",
              "      <td>1667</td>\n",
              "      <td>2793</td>\n",
              "      <td>18</td>\n",
              "      <td>4.901020</td>\n",
              "    </tr>\n",
              "    <tr>\n",
              "      <th>4</th>\n",
              "      <td>https://insights.blackcoffer.com/blockchain-fo...</td>\n",
              "      <td>Ranking customer behaviours for business strat...</td>\n",
              "      <td>[Ranking, customer, behaviours, for, business,...</td>\n",
              "      <td>983</td>\n",
              "      <td>29</td>\n",
              "      <td>28</td>\n",
              "      <td>0.017544</td>\n",
              "      <td>0.006849</td>\n",
              "      <td>188.174975</td>\n",
              "      <td>0.595117</td>\n",
              "      <td>75.508037</td>\n",
              "      <td>6.732877</td>\n",
              "      <td>265</td>\n",
              "      <td>983</td>\n",
              "      <td>1712</td>\n",
              "      <td>9</td>\n",
              "      <td>5.109868</td>\n",
              "    </tr>\n",
              "  </tbody>\n",
              "</table>\n",
              "</div>\n",
              "      <button class=\"colab-df-convert\" onclick=\"convertToInteractive('df-08d51935-1f57-43cb-9a73-56c665dd3335')\"\n",
              "              title=\"Convert this dataframe to an interactive table.\"\n",
              "              style=\"display:none;\">\n",
              "        \n",
              "  <svg xmlns=\"http://www.w3.org/2000/svg\" height=\"24px\"viewBox=\"0 0 24 24\"\n",
              "       width=\"24px\">\n",
              "    <path d=\"M0 0h24v24H0V0z\" fill=\"none\"/>\n",
              "    <path d=\"M18.56 5.44l.94 2.06.94-2.06 2.06-.94-2.06-.94-.94-2.06-.94 2.06-2.06.94zm-11 1L8.5 8.5l.94-2.06 2.06-.94-2.06-.94L8.5 2.5l-.94 2.06-2.06.94zm10 10l.94 2.06.94-2.06 2.06-.94-2.06-.94-.94-2.06-.94 2.06-2.06.94z\"/><path d=\"M17.41 7.96l-1.37-1.37c-.4-.4-.92-.59-1.43-.59-.52 0-1.04.2-1.43.59L10.3 9.45l-7.72 7.72c-.78.78-.78 2.05 0 2.83L4 21.41c.39.39.9.59 1.41.59.51 0 1.02-.2 1.41-.59l7.78-7.78 2.81-2.81c.8-.78.8-2.07 0-2.86zM5.41 20L4 18.59l7.72-7.72 1.47 1.35L5.41 20z\"/>\n",
              "  </svg>\n",
              "      </button>\n",
              "      \n",
              "  <style>\n",
              "    .colab-df-container {\n",
              "      display:flex;\n",
              "      flex-wrap:wrap;\n",
              "      gap: 12px;\n",
              "    }\n",
              "\n",
              "    .colab-df-convert {\n",
              "      background-color: #E8F0FE;\n",
              "      border: none;\n",
              "      border-radius: 50%;\n",
              "      cursor: pointer;\n",
              "      display: none;\n",
              "      fill: #1967D2;\n",
              "      height: 32px;\n",
              "      padding: 0 0 0 0;\n",
              "      width: 32px;\n",
              "    }\n",
              "\n",
              "    .colab-df-convert:hover {\n",
              "      background-color: #E2EBFA;\n",
              "      box-shadow: 0px 1px 2px rgba(60, 64, 67, 0.3), 0px 1px 3px 1px rgba(60, 64, 67, 0.15);\n",
              "      fill: #174EA6;\n",
              "    }\n",
              "\n",
              "    [theme=dark] .colab-df-convert {\n",
              "      background-color: #3B4455;\n",
              "      fill: #D2E3FC;\n",
              "    }\n",
              "\n",
              "    [theme=dark] .colab-df-convert:hover {\n",
              "      background-color: #434B5C;\n",
              "      box-shadow: 0px 1px 3px 1px rgba(0, 0, 0, 0.15);\n",
              "      filter: drop-shadow(0px 1px 2px rgba(0, 0, 0, 0.3));\n",
              "      fill: #FFFFFF;\n",
              "    }\n",
              "  </style>\n",
              "\n",
              "      <script>\n",
              "        const buttonEl =\n",
              "          document.querySelector('#df-08d51935-1f57-43cb-9a73-56c665dd3335 button.colab-df-convert');\n",
              "        buttonEl.style.display =\n",
              "          google.colab.kernel.accessAllowed ? 'block' : 'none';\n",
              "\n",
              "        async function convertToInteractive(key) {\n",
              "          const element = document.querySelector('#df-08d51935-1f57-43cb-9a73-56c665dd3335');\n",
              "          const dataTable =\n",
              "            await google.colab.kernel.invokeFunction('convertToInteractive',\n",
              "                                                     [key], {});\n",
              "          if (!dataTable) return;\n",
              "\n",
              "          const docLinkHtml = 'Like what you see? Visit the ' +\n",
              "            '<a target=\"_blank\" href=https://colab.research.google.com/notebooks/data_table.ipynb>data table notebook</a>'\n",
              "            + ' to learn more about interactive tables.';\n",
              "          element.innerHTML = '';\n",
              "          dataTable['output_type'] = 'display_data';\n",
              "          await google.colab.output.renderOutput(dataTable, element);\n",
              "          const docLink = document.createElement('div');\n",
              "          docLink.innerHTML = docLinkHtml;\n",
              "          element.appendChild(docLink);\n",
              "        }\n",
              "      </script>\n",
              "    </div>\n",
              "  </div>\n",
              "  "
            ]
          },
          "metadata": {},
          "execution_count": 63
        }
      ]
    },
    {
      "cell_type": "code",
      "source": [
        "output_data.drop(columns = (['data','tokenized_sents', 'total_len' ]), inplace = True)"
      ],
      "metadata": {
        "id": "QZsijDXdnZUx"
      },
      "execution_count": null,
      "outputs": []
    },
    {
      "cell_type": "code",
      "source": [
        "output_data.head()"
      ],
      "metadata": {
        "id": "MrEldpdXeGM6",
        "colab": {
          "base_uri": "https://localhost:8080/",
          "height": 357
        },
        "outputId": "7d0e7821-1a9f-4e2a-e1ce-0a5f9d1b31ea"
      },
      "execution_count": null,
      "outputs": [
        {
          "output_type": "execute_result",
          "data": {
            "text/plain": [
              "                                                 URL  positive_score  \\\n",
              "0  https://insights.blackcoffer.com/challenges-an...              45   \n",
              "1  https://insights.blackcoffer.com/business-anal...              33   \n",
              "2  https://insights.blackcoffer.com/big-data-anal...              30   \n",
              "3  https://insights.blackcoffer.com/the-future-of...              47   \n",
              "4  https://insights.blackcoffer.com/blockchain-fo...              29   \n",
              "\n",
              "   negative_score  Polarity_Score  subjectiivity_score  avg_senetence_length  \\\n",
              "0              39        0.071429             0.041096            165.452594   \n",
              "1               4        0.783784             0.198630            241.483029   \n",
              "2              44       -0.189189            -0.095890            147.508772   \n",
              "3              12        0.593220             0.239726            110.963407   \n",
              "4              28        0.017544             0.006849            188.174975   \n",
              "\n",
              "   Percentage_of_Complex_words  Fog_Index  avg_no_of_words_per_sentence  \\\n",
              "0                     0.523256  66.390340                      7.657534   \n",
              "1                     0.763708  96.898695                      5.246575   \n",
              "2                     0.466507  59.190112                      8.589041   \n",
              "3                     0.350930  44.525735                     11.417808   \n",
              "4                     0.595117  75.508037                      6.732877   \n",
              "\n",
              "   complex_Word_Count  word_count  syllable_count  personal_pronouns  \\\n",
              "0                 279        1118            1957                  8   \n",
              "1                 259         766            1476                  0   \n",
              "2                 366        1254            2162                  2   \n",
              "3                 454        1667            2793                 18   \n",
              "4                 265         983            1712                  9   \n",
              "\n",
              "   avg_word_length  \n",
              "0         4.812165  \n",
              "1         5.449086  \n",
              "2         4.811005  \n",
              "3         4.901020  \n",
              "4         5.109868  "
            ],
            "text/html": [
              "\n",
              "  <div id=\"df-4664c0c8-88a3-4c2a-bca9-518992c0d7e4\">\n",
              "    <div class=\"colab-df-container\">\n",
              "      <div>\n",
              "<style scoped>\n",
              "    .dataframe tbody tr th:only-of-type {\n",
              "        vertical-align: middle;\n",
              "    }\n",
              "\n",
              "    .dataframe tbody tr th {\n",
              "        vertical-align: top;\n",
              "    }\n",
              "\n",
              "    .dataframe thead th {\n",
              "        text-align: right;\n",
              "    }\n",
              "</style>\n",
              "<table border=\"1\" class=\"dataframe\">\n",
              "  <thead>\n",
              "    <tr style=\"text-align: right;\">\n",
              "      <th></th>\n",
              "      <th>URL</th>\n",
              "      <th>positive_score</th>\n",
              "      <th>negative_score</th>\n",
              "      <th>Polarity_Score</th>\n",
              "      <th>subjectiivity_score</th>\n",
              "      <th>avg_senetence_length</th>\n",
              "      <th>Percentage_of_Complex_words</th>\n",
              "      <th>Fog_Index</th>\n",
              "      <th>avg_no_of_words_per_sentence</th>\n",
              "      <th>complex_Word_Count</th>\n",
              "      <th>word_count</th>\n",
              "      <th>syllable_count</th>\n",
              "      <th>personal_pronouns</th>\n",
              "      <th>avg_word_length</th>\n",
              "    </tr>\n",
              "  </thead>\n",
              "  <tbody>\n",
              "    <tr>\n",
              "      <th>0</th>\n",
              "      <td>https://insights.blackcoffer.com/challenges-an...</td>\n",
              "      <td>45</td>\n",
              "      <td>39</td>\n",
              "      <td>0.071429</td>\n",
              "      <td>0.041096</td>\n",
              "      <td>165.452594</td>\n",
              "      <td>0.523256</td>\n",
              "      <td>66.390340</td>\n",
              "      <td>7.657534</td>\n",
              "      <td>279</td>\n",
              "      <td>1118</td>\n",
              "      <td>1957</td>\n",
              "      <td>8</td>\n",
              "      <td>4.812165</td>\n",
              "    </tr>\n",
              "    <tr>\n",
              "      <th>1</th>\n",
              "      <td>https://insights.blackcoffer.com/business-anal...</td>\n",
              "      <td>33</td>\n",
              "      <td>4</td>\n",
              "      <td>0.783784</td>\n",
              "      <td>0.198630</td>\n",
              "      <td>241.483029</td>\n",
              "      <td>0.763708</td>\n",
              "      <td>96.898695</td>\n",
              "      <td>5.246575</td>\n",
              "      <td>259</td>\n",
              "      <td>766</td>\n",
              "      <td>1476</td>\n",
              "      <td>0</td>\n",
              "      <td>5.449086</td>\n",
              "    </tr>\n",
              "    <tr>\n",
              "      <th>2</th>\n",
              "      <td>https://insights.blackcoffer.com/big-data-anal...</td>\n",
              "      <td>30</td>\n",
              "      <td>44</td>\n",
              "      <td>-0.189189</td>\n",
              "      <td>-0.095890</td>\n",
              "      <td>147.508772</td>\n",
              "      <td>0.466507</td>\n",
              "      <td>59.190112</td>\n",
              "      <td>8.589041</td>\n",
              "      <td>366</td>\n",
              "      <td>1254</td>\n",
              "      <td>2162</td>\n",
              "      <td>2</td>\n",
              "      <td>4.811005</td>\n",
              "    </tr>\n",
              "    <tr>\n",
              "      <th>3</th>\n",
              "      <td>https://insights.blackcoffer.com/the-future-of...</td>\n",
              "      <td>47</td>\n",
              "      <td>12</td>\n",
              "      <td>0.593220</td>\n",
              "      <td>0.239726</td>\n",
              "      <td>110.963407</td>\n",
              "      <td>0.350930</td>\n",
              "      <td>44.525735</td>\n",
              "      <td>11.417808</td>\n",
              "      <td>454</td>\n",
              "      <td>1667</td>\n",
              "      <td>2793</td>\n",
              "      <td>18</td>\n",
              "      <td>4.901020</td>\n",
              "    </tr>\n",
              "    <tr>\n",
              "      <th>4</th>\n",
              "      <td>https://insights.blackcoffer.com/blockchain-fo...</td>\n",
              "      <td>29</td>\n",
              "      <td>28</td>\n",
              "      <td>0.017544</td>\n",
              "      <td>0.006849</td>\n",
              "      <td>188.174975</td>\n",
              "      <td>0.595117</td>\n",
              "      <td>75.508037</td>\n",
              "      <td>6.732877</td>\n",
              "      <td>265</td>\n",
              "      <td>983</td>\n",
              "      <td>1712</td>\n",
              "      <td>9</td>\n",
              "      <td>5.109868</td>\n",
              "    </tr>\n",
              "  </tbody>\n",
              "</table>\n",
              "</div>\n",
              "      <button class=\"colab-df-convert\" onclick=\"convertToInteractive('df-4664c0c8-88a3-4c2a-bca9-518992c0d7e4')\"\n",
              "              title=\"Convert this dataframe to an interactive table.\"\n",
              "              style=\"display:none;\">\n",
              "        \n",
              "  <svg xmlns=\"http://www.w3.org/2000/svg\" height=\"24px\"viewBox=\"0 0 24 24\"\n",
              "       width=\"24px\">\n",
              "    <path d=\"M0 0h24v24H0V0z\" fill=\"none\"/>\n",
              "    <path d=\"M18.56 5.44l.94 2.06.94-2.06 2.06-.94-2.06-.94-.94-2.06-.94 2.06-2.06.94zm-11 1L8.5 8.5l.94-2.06 2.06-.94-2.06-.94L8.5 2.5l-.94 2.06-2.06.94zm10 10l.94 2.06.94-2.06 2.06-.94-2.06-.94-.94-2.06-.94 2.06-2.06.94z\"/><path d=\"M17.41 7.96l-1.37-1.37c-.4-.4-.92-.59-1.43-.59-.52 0-1.04.2-1.43.59L10.3 9.45l-7.72 7.72c-.78.78-.78 2.05 0 2.83L4 21.41c.39.39.9.59 1.41.59.51 0 1.02-.2 1.41-.59l7.78-7.78 2.81-2.81c.8-.78.8-2.07 0-2.86zM5.41 20L4 18.59l7.72-7.72 1.47 1.35L5.41 20z\"/>\n",
              "  </svg>\n",
              "      </button>\n",
              "      \n",
              "  <style>\n",
              "    .colab-df-container {\n",
              "      display:flex;\n",
              "      flex-wrap:wrap;\n",
              "      gap: 12px;\n",
              "    }\n",
              "\n",
              "    .colab-df-convert {\n",
              "      background-color: #E8F0FE;\n",
              "      border: none;\n",
              "      border-radius: 50%;\n",
              "      cursor: pointer;\n",
              "      display: none;\n",
              "      fill: #1967D2;\n",
              "      height: 32px;\n",
              "      padding: 0 0 0 0;\n",
              "      width: 32px;\n",
              "    }\n",
              "\n",
              "    .colab-df-convert:hover {\n",
              "      background-color: #E2EBFA;\n",
              "      box-shadow: 0px 1px 2px rgba(60, 64, 67, 0.3), 0px 1px 3px 1px rgba(60, 64, 67, 0.15);\n",
              "      fill: #174EA6;\n",
              "    }\n",
              "\n",
              "    [theme=dark] .colab-df-convert {\n",
              "      background-color: #3B4455;\n",
              "      fill: #D2E3FC;\n",
              "    }\n",
              "\n",
              "    [theme=dark] .colab-df-convert:hover {\n",
              "      background-color: #434B5C;\n",
              "      box-shadow: 0px 1px 3px 1px rgba(0, 0, 0, 0.15);\n",
              "      filter: drop-shadow(0px 1px 2px rgba(0, 0, 0, 0.3));\n",
              "      fill: #FFFFFF;\n",
              "    }\n",
              "  </style>\n",
              "\n",
              "      <script>\n",
              "        const buttonEl =\n",
              "          document.querySelector('#df-4664c0c8-88a3-4c2a-bca9-518992c0d7e4 button.colab-df-convert');\n",
              "        buttonEl.style.display =\n",
              "          google.colab.kernel.accessAllowed ? 'block' : 'none';\n",
              "\n",
              "        async function convertToInteractive(key) {\n",
              "          const element = document.querySelector('#df-4664c0c8-88a3-4c2a-bca9-518992c0d7e4');\n",
              "          const dataTable =\n",
              "            await google.colab.kernel.invokeFunction('convertToInteractive',\n",
              "                                                     [key], {});\n",
              "          if (!dataTable) return;\n",
              "\n",
              "          const docLinkHtml = 'Like what you see? Visit the ' +\n",
              "            '<a target=\"_blank\" href=https://colab.research.google.com/notebooks/data_table.ipynb>data table notebook</a>'\n",
              "            + ' to learn more about interactive tables.';\n",
              "          element.innerHTML = '';\n",
              "          dataTable['output_type'] = 'display_data';\n",
              "          await google.colab.output.renderOutput(dataTable, element);\n",
              "          const docLink = document.createElement('div');\n",
              "          docLink.innerHTML = docLinkHtml;\n",
              "          element.appendChild(docLink);\n",
              "        }\n",
              "      </script>\n",
              "    </div>\n",
              "  </div>\n",
              "  "
            ]
          },
          "metadata": {},
          "execution_count": 66
        }
      ]
    },
    {
      "cell_type": "markdown",
      "source": [
        "#This is the final dataset which contains all scores for the respective URLs"
      ],
      "metadata": {
        "id": "QQ_nm4xMAohv"
      }
    }
  ]
}